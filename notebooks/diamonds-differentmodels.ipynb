{
 "cells": [
  {
   "cell_type": "markdown",
   "id": "fixed-subscriber",
   "metadata": {
    "papermill": {
     "duration": 0.047764,
     "end_time": "2021-03-21T18:11:02.161774",
     "exception": false,
     "start_time": "2021-03-21T18:11:02.114010",
     "status": "completed"
    },
    "tags": []
   },
   "source": [
    "# Predicting diamonds price\n",
    "The goal of this project is to predict the price of different diamonds through machine learning models. \n",
    "\n",
    "In order to achieve it, firstly, we will do a data exploratory analysis and, secondly, we will try different machine learning models to check which one gives the best prediction.\n",
    "\n",
    "The error metric that we will use is RMSE. "
   ]
  },
  {
   "cell_type": "markdown",
   "id": "wooden-console",
   "metadata": {
    "papermill": {
     "duration": 0.044301,
     "end_time": "2021-03-21T18:11:02.250682",
     "exception": false,
     "start_time": "2021-03-21T18:11:02.206381",
     "status": "completed"
    },
    "tags": []
   },
   "source": [
    "# About diamonds"
   ]
  },
  {
   "cell_type": "markdown",
   "id": "blank-feature",
   "metadata": {
    "papermill": {
     "duration": 0.047027,
     "end_time": "2021-03-21T18:11:02.343063",
     "exception": false,
     "start_time": "2021-03-21T18:11:02.296036",
     "status": "completed"
    },
    "tags": []
   },
   "source": [
    "The price of diamonds is determinate for the 4C's: Carat, Color, Cut and Clarity.\n",
    "\n",
    "![image](https://i.pinimg.com/564x/10/ad/8e/10ad8ef96ead61b0f36b5b429e1f942b.jpg)"
   ]
  },
  {
   "cell_type": "markdown",
   "id": "intense-trail",
   "metadata": {
    "papermill": {
     "duration": 0.044277,
     "end_time": "2021-03-21T18:11:02.432103",
     "exception": false,
     "start_time": "2021-03-21T18:11:02.387826",
     "status": "completed"
    },
    "tags": []
   },
   "source": [
    "In our data set we will finde the next features:\n",
    "* **id:** only for test & sample submission files, id for prediction sample identification\n",
    "* **price**: price in USD\n",
    "* **carat**: weight of the diamond\n",
    "* **cut**: quality of the cut (Fair, Good, Very Good, Premium, Ideal)\n",
    "* **color**: diamond colour, from J (worst) to D (best)\n",
    "* **clarity**: a measurement of how clear the diamond is (I1 (worst), SI2, SI1, VS2, VS1, VVS2, VVS1, IF (best))\n",
    "* **x**: length in mm\n",
    "* **y**: width in mm\n",
    "* **z**: depth in mm\n",
    "* **depth**: total depth percentage = z / mean(x, y) = 2 * z / (x + y) (43--79)\n",
    "* **table**: width of top of diamond relative to widest point (43--95)"
   ]
  },
  {
   "cell_type": "markdown",
   "id": "first-design",
   "metadata": {
    "papermill": {
     "duration": 0.044392,
     "end_time": "2021-03-21T18:11:02.521102",
     "exception": false,
     "start_time": "2021-03-21T18:11:02.476710",
     "status": "completed"
    },
    "tags": []
   },
   "source": [
    "# 1. Importing Data"
   ]
  },
  {
   "cell_type": "code",
   "execution_count": 1,
   "id": "clean-relationship",
   "metadata": {
    "execution": {
     "iopub.execute_input": "2021-03-21T18:11:02.619851Z",
     "iopub.status.busy": "2021-03-21T18:11:02.619211Z",
     "iopub.status.idle": "2021-03-21T18:11:04.074671Z",
     "shell.execute_reply": "2021-03-21T18:11:04.073188Z"
    },
    "papermill": {
     "duration": 1.508978,
     "end_time": "2021-03-21T18:11:04.074910",
     "exception": false,
     "start_time": "2021-03-21T18:11:02.565932",
     "status": "completed"
    },
    "tags": []
   },
   "outputs": [],
   "source": [
    "# imports\n",
    "\n",
    "import numpy as np # linear algebra\n",
    "import pandas as pd # data processing, CSV file I/O (e.g. pd.read_csv)\n",
    "\n",
    "# data visualization\n",
    "\n",
    "import matplotlib.pyplot as plt\n",
    "import seaborn as sns\n",
    "\n",
    "# machine learning models\n",
    "\n",
    "from sklearn.model_selection import train_test_split\n",
    "from sklearn.linear_model import LinearRegression\n",
    "from sklearn.ensemble import RandomForestRegressor, RandomForestClassifier\n",
    "from sklearn.ensemble import GradientBoostingRegressor\n",
    "from sklearn.model_selection import RandomizedSearchCV\n",
    "from sklearn.neighbors import KNeighborsRegressor\n",
    "from sklearn.model_selection import GridSearchCV\n",
    "\n",
    "# error metrics\n",
    "\n",
    "from sklearn.metrics import mean_squared_error\n",
    "from sklearn.model_selection import cross_val_score\n",
    "\n",
    "# pipeline\n",
    "\n",
    "from sklearn.impute import SimpleImputer\n",
    "from sklearn.pipeline import Pipeline\n",
    "from sklearn.preprocessing import OneHotEncoder\n",
    "from sklearn.compose import ColumnTransformer"
   ]
  },
  {
   "cell_type": "code",
   "execution_count": 2,
   "id": "available-immune",
   "metadata": {
    "execution": {
     "iopub.execute_input": "2021-03-21T18:11:04.170355Z",
     "iopub.status.busy": "2021-03-21T18:11:04.169672Z",
     "iopub.status.idle": "2021-03-21T18:11:04.263063Z",
     "shell.execute_reply": "2021-03-21T18:11:04.262349Z"
    },
    "papermill": {
     "duration": 0.143059,
     "end_time": "2021-03-21T18:11:04.263213",
     "exception": false,
     "start_time": "2021-03-21T18:11:04.120154",
     "status": "completed"
    },
    "tags": []
   },
   "outputs": [],
   "source": [
    "# for training our machine model and testing the results\n",
    "train = pd.read_csv('../input/dapt202011mad/diamonds_train.csv')"
   ]
  },
  {
   "cell_type": "code",
   "execution_count": 3,
   "id": "russian-hardwood",
   "metadata": {
    "execution": {
     "iopub.execute_input": "2021-03-21T18:11:04.375868Z",
     "iopub.status.busy": "2021-03-21T18:11:04.373554Z",
     "iopub.status.idle": "2021-03-21T18:11:04.417976Z",
     "shell.execute_reply": "2021-03-21T18:11:04.416456Z"
    },
    "papermill": {
     "duration": 0.107657,
     "end_time": "2021-03-21T18:11:04.418329",
     "exception": false,
     "start_time": "2021-03-21T18:11:04.310672",
     "status": "completed"
    },
    "tags": []
   },
   "outputs": [],
   "source": [
    "# to make our final price prediction\n",
    "test = pd.read_csv('../input/dapt202011mad/diamonds_test.csv')"
   ]
  },
  {
   "cell_type": "markdown",
   "id": "identified-korean",
   "metadata": {
    "papermill": {
     "duration": 0.046684,
     "end_time": "2021-03-21T18:11:04.531107",
     "exception": false,
     "start_time": "2021-03-21T18:11:04.484423",
     "status": "completed"
    },
    "tags": []
   },
   "source": [
    "# 2. Exploratory Data Analysis"
   ]
  },
  {
   "cell_type": "markdown",
   "id": "rural-bermuda",
   "metadata": {
    "papermill": {
     "duration": 0.044863,
     "end_time": "2021-03-21T18:11:04.622949",
     "exception": false,
     "start_time": "2021-03-21T18:11:04.578086",
     "status": "completed"
    },
    "tags": []
   },
   "source": [
    "### 2.1. Overview of the data sets"
   ]
  },
  {
   "cell_type": "code",
   "execution_count": 4,
   "id": "motivated-score",
   "metadata": {
    "execution": {
     "iopub.execute_input": "2021-03-21T18:11:04.723000Z",
     "iopub.status.busy": "2021-03-21T18:11:04.721987Z",
     "iopub.status.idle": "2021-03-21T18:11:04.726915Z",
     "shell.execute_reply": "2021-03-21T18:11:04.726294Z"
    },
    "papermill": {
     "duration": 0.057169,
     "end_time": "2021-03-21T18:11:04.727059",
     "exception": false,
     "start_time": "2021-03-21T18:11:04.669890",
     "status": "completed"
    },
    "tags": []
   },
   "outputs": [
    {
     "data": {
      "text/plain": [
       "((40455, 10), (13485, 10))"
      ]
     },
     "execution_count": 4,
     "metadata": {},
     "output_type": "execute_result"
    }
   ],
   "source": [
    "train.shape, test.shape"
   ]
  },
  {
   "cell_type": "code",
   "execution_count": 5,
   "id": "acquired-castle",
   "metadata": {
    "execution": {
     "iopub.execute_input": "2021-03-21T18:11:04.840620Z",
     "iopub.status.busy": "2021-03-21T18:11:04.839447Z",
     "iopub.status.idle": "2021-03-21T18:11:04.891065Z",
     "shell.execute_reply": "2021-03-21T18:11:04.890094Z"
    },
    "papermill": {
     "duration": 0.118075,
     "end_time": "2021-03-21T18:11:04.891230",
     "exception": false,
     "start_time": "2021-03-21T18:11:04.773155",
     "status": "completed"
    },
    "tags": []
   },
   "outputs": [
    {
     "data": {
      "text/html": [
       "<div>\n",
       "<style scoped>\n",
       "    .dataframe tbody tr th:only-of-type {\n",
       "        vertical-align: middle;\n",
       "    }\n",
       "\n",
       "    .dataframe tbody tr th {\n",
       "        vertical-align: top;\n",
       "    }\n",
       "\n",
       "    .dataframe thead th {\n",
       "        text-align: right;\n",
       "    }\n",
       "</style>\n",
       "<table border=\"1\" class=\"dataframe\">\n",
       "  <thead>\n",
       "    <tr style=\"text-align: right;\">\n",
       "      <th></th>\n",
       "      <th>carat</th>\n",
       "      <th>depth</th>\n",
       "      <th>table</th>\n",
       "      <th>price</th>\n",
       "      <th>x</th>\n",
       "      <th>y</th>\n",
       "      <th>z</th>\n",
       "    </tr>\n",
       "  </thead>\n",
       "  <tbody>\n",
       "    <tr>\n",
       "      <th>count</th>\n",
       "      <td>40455.00</td>\n",
       "      <td>40455.00</td>\n",
       "      <td>40455.00</td>\n",
       "      <td>40455.00</td>\n",
       "      <td>40455.00</td>\n",
       "      <td>40455.00</td>\n",
       "      <td>40455.00</td>\n",
       "    </tr>\n",
       "    <tr>\n",
       "      <th>mean</th>\n",
       "      <td>0.80</td>\n",
       "      <td>61.75</td>\n",
       "      <td>57.45</td>\n",
       "      <td>3928.44</td>\n",
       "      <td>5.73</td>\n",
       "      <td>5.73</td>\n",
       "      <td>3.54</td>\n",
       "    </tr>\n",
       "    <tr>\n",
       "      <th>std</th>\n",
       "      <td>0.48</td>\n",
       "      <td>1.43</td>\n",
       "      <td>2.23</td>\n",
       "      <td>3992.42</td>\n",
       "      <td>1.12</td>\n",
       "      <td>1.15</td>\n",
       "      <td>0.70</td>\n",
       "    </tr>\n",
       "    <tr>\n",
       "      <th>min</th>\n",
       "      <td>0.20</td>\n",
       "      <td>43.00</td>\n",
       "      <td>43.00</td>\n",
       "      <td>326.00</td>\n",
       "      <td>0.00</td>\n",
       "      <td>0.00</td>\n",
       "      <td>0.00</td>\n",
       "    </tr>\n",
       "    <tr>\n",
       "      <th>25%</th>\n",
       "      <td>0.40</td>\n",
       "      <td>61.00</td>\n",
       "      <td>56.00</td>\n",
       "      <td>945.00</td>\n",
       "      <td>4.71</td>\n",
       "      <td>4.72</td>\n",
       "      <td>2.91</td>\n",
       "    </tr>\n",
       "    <tr>\n",
       "      <th>50%</th>\n",
       "      <td>0.70</td>\n",
       "      <td>61.80</td>\n",
       "      <td>57.00</td>\n",
       "      <td>2397.00</td>\n",
       "      <td>5.69</td>\n",
       "      <td>5.71</td>\n",
       "      <td>3.52</td>\n",
       "    </tr>\n",
       "    <tr>\n",
       "      <th>75%</th>\n",
       "      <td>1.04</td>\n",
       "      <td>62.50</td>\n",
       "      <td>59.00</td>\n",
       "      <td>5331.00</td>\n",
       "      <td>6.54</td>\n",
       "      <td>6.54</td>\n",
       "      <td>4.04</td>\n",
       "    </tr>\n",
       "    <tr>\n",
       "      <th>max</th>\n",
       "      <td>4.50</td>\n",
       "      <td>79.00</td>\n",
       "      <td>95.00</td>\n",
       "      <td>18823.00</td>\n",
       "      <td>10.23</td>\n",
       "      <td>58.90</td>\n",
       "      <td>8.06</td>\n",
       "    </tr>\n",
       "  </tbody>\n",
       "</table>\n",
       "</div>"
      ],
      "text/plain": [
       "          carat     depth     table     price         x         y         z\n",
       "count  40455.00  40455.00  40455.00  40455.00  40455.00  40455.00  40455.00\n",
       "mean       0.80     61.75     57.45   3928.44      5.73      5.73      3.54\n",
       "std        0.48      1.43      2.23   3992.42      1.12      1.15      0.70\n",
       "min        0.20     43.00     43.00    326.00      0.00      0.00      0.00\n",
       "25%        0.40     61.00     56.00    945.00      4.71      4.72      2.91\n",
       "50%        0.70     61.80     57.00   2397.00      5.69      5.71      3.52\n",
       "75%        1.04     62.50     59.00   5331.00      6.54      6.54      4.04\n",
       "max        4.50     79.00     95.00  18823.00     10.23     58.90      8.06"
      ]
     },
     "execution_count": 5,
     "metadata": {},
     "output_type": "execute_result"
    }
   ],
   "source": [
    "train.describe().round(2)"
   ]
  },
  {
   "cell_type": "code",
   "execution_count": 6,
   "id": "floating-incident",
   "metadata": {
    "execution": {
     "iopub.execute_input": "2021-03-21T18:11:04.992404Z",
     "iopub.status.busy": "2021-03-21T18:11:04.991693Z",
     "iopub.status.idle": "2021-03-21T18:11:05.028256Z",
     "shell.execute_reply": "2021-03-21T18:11:05.027690Z"
    },
    "papermill": {
     "duration": 0.090975,
     "end_time": "2021-03-21T18:11:05.028405",
     "exception": false,
     "start_time": "2021-03-21T18:11:04.937430",
     "status": "completed"
    },
    "tags": []
   },
   "outputs": [
    {
     "data": {
      "text/html": [
       "<div>\n",
       "<style scoped>\n",
       "    .dataframe tbody tr th:only-of-type {\n",
       "        vertical-align: middle;\n",
       "    }\n",
       "\n",
       "    .dataframe tbody tr th {\n",
       "        vertical-align: top;\n",
       "    }\n",
       "\n",
       "    .dataframe thead th {\n",
       "        text-align: right;\n",
       "    }\n",
       "</style>\n",
       "<table border=\"1\" class=\"dataframe\">\n",
       "  <thead>\n",
       "    <tr style=\"text-align: right;\">\n",
       "      <th></th>\n",
       "      <th>id</th>\n",
       "      <th>carat</th>\n",
       "      <th>depth</th>\n",
       "      <th>table</th>\n",
       "      <th>x</th>\n",
       "      <th>y</th>\n",
       "      <th>z</th>\n",
       "    </tr>\n",
       "  </thead>\n",
       "  <tbody>\n",
       "    <tr>\n",
       "      <th>count</th>\n",
       "      <td>13485.00</td>\n",
       "      <td>13485.00</td>\n",
       "      <td>13485.00</td>\n",
       "      <td>13485.00</td>\n",
       "      <td>13485.00</td>\n",
       "      <td>13485.00</td>\n",
       "      <td>13485.00</td>\n",
       "    </tr>\n",
       "    <tr>\n",
       "      <th>mean</th>\n",
       "      <td>6742.00</td>\n",
       "      <td>0.80</td>\n",
       "      <td>61.74</td>\n",
       "      <td>57.49</td>\n",
       "      <td>5.74</td>\n",
       "      <td>5.74</td>\n",
       "      <td>3.54</td>\n",
       "    </tr>\n",
       "    <tr>\n",
       "      <th>std</th>\n",
       "      <td>3892.93</td>\n",
       "      <td>0.47</td>\n",
       "      <td>1.44</td>\n",
       "      <td>2.24</td>\n",
       "      <td>1.11</td>\n",
       "      <td>1.13</td>\n",
       "      <td>0.73</td>\n",
       "    </tr>\n",
       "    <tr>\n",
       "      <th>min</th>\n",
       "      <td>0.00</td>\n",
       "      <td>0.20</td>\n",
       "      <td>50.80</td>\n",
       "      <td>51.00</td>\n",
       "      <td>0.00</td>\n",
       "      <td>0.00</td>\n",
       "      <td>0.00</td>\n",
       "    </tr>\n",
       "    <tr>\n",
       "      <th>25%</th>\n",
       "      <td>3371.00</td>\n",
       "      <td>0.40</td>\n",
       "      <td>61.00</td>\n",
       "      <td>56.00</td>\n",
       "      <td>4.73</td>\n",
       "      <td>4.73</td>\n",
       "      <td>2.92</td>\n",
       "    </tr>\n",
       "    <tr>\n",
       "      <th>50%</th>\n",
       "      <td>6742.00</td>\n",
       "      <td>0.70</td>\n",
       "      <td>61.90</td>\n",
       "      <td>57.00</td>\n",
       "      <td>5.70</td>\n",
       "      <td>5.72</td>\n",
       "      <td>3.53</td>\n",
       "    </tr>\n",
       "    <tr>\n",
       "      <th>75%</th>\n",
       "      <td>10113.00</td>\n",
       "      <td>1.04</td>\n",
       "      <td>62.50</td>\n",
       "      <td>59.00</td>\n",
       "      <td>6.53</td>\n",
       "      <td>6.53</td>\n",
       "      <td>4.04</td>\n",
       "    </tr>\n",
       "    <tr>\n",
       "      <th>max</th>\n",
       "      <td>13484.00</td>\n",
       "      <td>5.01</td>\n",
       "      <td>79.00</td>\n",
       "      <td>73.00</td>\n",
       "      <td>10.74</td>\n",
       "      <td>31.80</td>\n",
       "      <td>31.80</td>\n",
       "    </tr>\n",
       "  </tbody>\n",
       "</table>\n",
       "</div>"
      ],
      "text/plain": [
       "             id     carat     depth     table         x         y         z\n",
       "count  13485.00  13485.00  13485.00  13485.00  13485.00  13485.00  13485.00\n",
       "mean    6742.00      0.80     61.74     57.49      5.74      5.74      3.54\n",
       "std     3892.93      0.47      1.44      2.24      1.11      1.13      0.73\n",
       "min        0.00      0.20     50.80     51.00      0.00      0.00      0.00\n",
       "25%     3371.00      0.40     61.00     56.00      4.73      4.73      2.92\n",
       "50%     6742.00      0.70     61.90     57.00      5.70      5.72      3.53\n",
       "75%    10113.00      1.04     62.50     59.00      6.53      6.53      4.04\n",
       "max    13484.00      5.01     79.00     73.00     10.74     31.80     31.80"
      ]
     },
     "execution_count": 6,
     "metadata": {},
     "output_type": "execute_result"
    }
   ],
   "source": [
    "test.describe().round(2)"
   ]
  },
  {
   "cell_type": "markdown",
   "id": "treated-emission",
   "metadata": {
    "papermill": {
     "duration": 0.046598,
     "end_time": "2021-03-21T18:11:05.121896",
     "exception": false,
     "start_time": "2021-03-21T18:11:05.075298",
     "status": "completed"
    },
    "tags": []
   },
   "source": [
    "### 2.2. Data visualization"
   ]
  },
  {
   "cell_type": "markdown",
   "id": "outer-duration",
   "metadata": {
    "papermill": {
     "duration": 0.047098,
     "end_time": "2021-03-21T18:11:05.216106",
     "exception": false,
     "start_time": "2021-03-21T18:11:05.169008",
     "status": "completed"
    },
    "tags": []
   },
   "source": [
    "First of all, we are going to see how our data are distributed using a box plot. In all columns there are some outliers that we will have in mind during the data process for our machine learning models."
   ]
  },
  {
   "cell_type": "code",
   "execution_count": 7,
   "id": "asian-manitoba",
   "metadata": {
    "execution": {
     "iopub.execute_input": "2021-03-21T18:11:05.315811Z",
     "iopub.status.busy": "2021-03-21T18:11:05.315108Z",
     "iopub.status.idle": "2021-03-21T18:11:06.138782Z",
     "shell.execute_reply": "2021-03-21T18:11:06.138063Z"
    },
    "papermill": {
     "duration": 0.87595,
     "end_time": "2021-03-21T18:11:06.138929",
     "exception": false,
     "start_time": "2021-03-21T18:11:05.262979",
     "status": "completed"
    },
    "tags": []
   },
   "outputs": [
    {
     "data": {
      "image/png": "[encoded data removed]",
      "text/plain": [
       "<Figure size 1080x720 with 9 Axes>"
      ]
     },
     "metadata": {
      "needs_background": "light"
     },
     "output_type": "display_data"
    }
   ],
   "source": [
    "# train distribution\n",
    "\n",
    "train.plot(kind='box', figsize=(15,10), subplots=True, layout=(3,3))\n",
    "plt.show()"
   ]
  },
  {
   "cell_type": "code",
   "execution_count": 8,
   "id": "spare-variety",
   "metadata": {
    "execution": {
     "iopub.execute_input": "2021-03-21T18:11:06.264419Z",
     "iopub.status.busy": "2021-03-21T18:11:06.260827Z",
     "iopub.status.idle": "2021-03-21T18:11:06.791559Z",
     "shell.execute_reply": "2021-03-21T18:11:06.790992Z"
    },
    "papermill": {
     "duration": 0.603292,
     "end_time": "2021-03-21T18:11:06.791703",
     "exception": false,
     "start_time": "2021-03-21T18:11:06.188411",
     "status": "completed"
    },
    "tags": []
   },
   "outputs": [
    {
     "data": {
      "image/png": "[encoded data removed]",
      "text/plain": [
       "<Figure size 432x288 with 2 Axes>"
      ]
     },
     "metadata": {
      "needs_background": "light"
     },
     "output_type": "display_data"
    }
   ],
   "source": [
    "# train correlations\n",
    "\n",
    "f,ax = plt.subplots(figsize=(6, 4))\n",
    "sns.heatmap(train.corr(), annot=True,annot_kws = {\"size\": 10},linecolor = \"black\", linewidths=0.5, fmt = '.2f', ax=ax,cmap = \"BrBG\")\n",
    "plt.title(\"Train correlations\")\n",
    "plt.show()"
   ]
  },
  {
   "cell_type": "code",
   "execution_count": 9,
   "id": "equivalent-reggae",
   "metadata": {
    "execution": {
     "iopub.execute_input": "2021-03-21T18:11:06.899307Z",
     "iopub.status.busy": "2021-03-21T18:11:06.898602Z",
     "iopub.status.idle": "2021-03-21T18:11:07.800265Z",
     "shell.execute_reply": "2021-03-21T18:11:07.799710Z"
    },
    "papermill": {
     "duration": 0.958918,
     "end_time": "2021-03-21T18:11:07.800413",
     "exception": false,
     "start_time": "2021-03-21T18:11:06.841495",
     "status": "completed"
    },
    "tags": []
   },
   "outputs": [
    {
     "data": {
      "image/png": "[encoded data removed]",
      "text/plain": [
       "<Figure size 1080x720 with 9 Axes>"
      ]
     },
     "metadata": {
      "needs_background": "light"
     },
     "output_type": "display_data"
    }
   ],
   "source": [
    "# test distribution \n",
    "\n",
    "test.plot(kind='box', figsize=(15,10), subplots=True, layout=(3,3))\n",
    "plt.show()"
   ]
  },
  {
   "cell_type": "code",
   "execution_count": 10,
   "id": "liberal-deficit",
   "metadata": {
    "execution": {
     "iopub.execute_input": "2021-03-21T18:11:07.930549Z",
     "iopub.status.busy": "2021-03-21T18:11:07.927277Z",
     "iopub.status.idle": "2021-03-21T18:11:08.443827Z",
     "shell.execute_reply": "2021-03-21T18:11:08.443088Z"
    },
    "papermill": {
     "duration": 0.592314,
     "end_time": "2021-03-21T18:11:08.443996",
     "exception": false,
     "start_time": "2021-03-21T18:11:07.851682",
     "status": "completed"
    },
    "tags": []
   },
   "outputs": [
    {
     "data": {
      "image/png": "[encoded data removed]",
      "text/plain": [
       "<Figure size 432x288 with 2 Axes>"
      ]
     },
     "metadata": {
      "needs_background": "light"
     },
     "output_type": "display_data"
    }
   ],
   "source": [
    "# test correlations\n",
    "\n",
    "f,ax = plt.subplots(figsize=(6, 4))\n",
    "sns.heatmap(test.corr(), annot=True,annot_kws = {\"size\": 10},linecolor = \"black\", linewidths=0.5, fmt = '.2f', ax=ax,cmap = \"BrBG\")\n",
    "plt.title(\"Test correlations\")\n",
    "plt.show()"
   ]
  },
  {
   "cell_type": "markdown",
   "id": "atlantic-inspector",
   "metadata": {
    "papermill": {
     "duration": 0.052601,
     "end_time": "2021-03-21T18:11:08.550508",
     "exception": false,
     "start_time": "2021-03-21T18:11:08.497907",
     "status": "completed"
    },
    "tags": []
   },
   "source": [
    "### 2.3. Conclusions"
   ]
  },
  {
   "cell_type": "markdown",
   "id": "focused-possible",
   "metadata": {
    "papermill": {
     "duration": 0.052182,
     "end_time": "2021-03-21T18:11:08.655078",
     "exception": false,
     "start_time": "2021-03-21T18:11:08.602896",
     "status": "completed"
    },
    "tags": []
   },
   "source": [
    "* Price is correlated with z,y,x and carat. But table and dept not much."
   ]
  },
  {
   "cell_type": "markdown",
   "id": "critical-anchor",
   "metadata": {
    "papermill": {
     "duration": 0.052464,
     "end_time": "2021-03-21T18:11:08.760642",
     "exception": false,
     "start_time": "2021-03-21T18:11:08.708178",
     "status": "completed"
    },
    "tags": []
   },
   "source": [
    "# 3. Transforming the data"
   ]
  },
  {
   "cell_type": "markdown",
   "id": "primary-freedom",
   "metadata": {
    "papermill": {
     "duration": 0.051904,
     "end_time": "2021-03-21T18:11:08.865028",
     "exception": false,
     "start_time": "2021-03-21T18:11:08.813124",
     "status": "completed"
    },
    "tags": []
   },
   "source": [
    "## 3.1 Encoding"
   ]
  },
  {
   "cell_type": "markdown",
   "id": "chemical-seating",
   "metadata": {
    "papermill": {
     "duration": 0.052624,
     "end_time": "2021-03-21T18:11:08.970671",
     "exception": false,
     "start_time": "2021-03-21T18:11:08.918047",
     "status": "completed"
    },
    "tags": []
   },
   "source": [
    "We are going to transform the category columns into category type in order to be able to transform it to machine learning understandability."
   ]
  },
  {
   "cell_type": "code",
   "execution_count": 11,
   "id": "amateur-evidence",
   "metadata": {
    "execution": {
     "iopub.execute_input": "2021-03-21T18:11:09.087042Z",
     "iopub.status.busy": "2021-03-21T18:11:09.085423Z",
     "iopub.status.idle": "2021-03-21T18:11:09.125127Z",
     "shell.execute_reply": "2021-03-21T18:11:09.124426Z"
    },
    "papermill": {
     "duration": 0.102161,
     "end_time": "2021-03-21T18:11:09.125271",
     "exception": false,
     "start_time": "2021-03-21T18:11:09.023110",
     "status": "completed"
    },
    "tags": []
   },
   "outputs": [],
   "source": [
    "target = 'price'\n",
    "cat_features = ['cut', 'color', 'clarity']\n",
    "num_features = ['carat', 'depth', 'table', 'x', 'y', 'z']\n",
    "\n",
    "for cat_feat in cat_features:\n",
    "    train[cat_feat] = train[cat_feat].astype('category')\n",
    "    test[cat_feat] = test[cat_feat].astype('category')\n",
    "    \n",
    "cat_df = pd.get_dummies(train[cat_features])\n",
    "num_df = train.loc[:,num_features]\n",
    "train_df = pd.concat([cat_df, num_df], axis=1)\n",
    "\n",
    "cat_df = pd.get_dummies(test[cat_features])\n",
    "num_df = test.loc[:,num_features]\n",
    "test_df = pd.concat([cat_df, num_df], axis=1)\n",
    "\n",
    "\n",
    "features = list(cat_df.columns) + list(num_df.columns)"
   ]
  },
  {
   "cell_type": "markdown",
   "id": "green-passing",
   "metadata": {
    "papermill": {
     "duration": 0.052029,
     "end_time": "2021-03-21T18:11:09.229734",
     "exception": false,
     "start_time": "2021-03-21T18:11:09.177705",
     "status": "completed"
    },
    "tags": []
   },
   "source": [
    "## 3.2. Scaling"
   ]
  },
  {
   "cell_type": "markdown",
   "id": "published-report",
   "metadata": {
    "papermill": {
     "duration": 0.052007,
     "end_time": "2021-03-21T18:11:09.334250",
     "exception": false,
     "start_time": "2021-03-21T18:11:09.282243",
     "status": "completed"
    },
    "tags": []
   },
   "source": [
    "Then, we are going to scale the columns and creating the X and y dataframes. We use Standard Scaler because out data have some outliers and in this way, they won't affect our machine learning model too much."
   ]
  },
  {
   "cell_type": "code",
   "execution_count": 12,
   "id": "smaller-october",
   "metadata": {
    "execution": {
     "iopub.execute_input": "2021-03-21T18:11:09.445700Z",
     "iopub.status.busy": "2021-03-21T18:11:09.445025Z",
     "iopub.status.idle": "2021-03-21T18:11:09.479525Z",
     "shell.execute_reply": "2021-03-21T18:11:09.478849Z"
    },
    "papermill": {
     "duration": 0.092966,
     "end_time": "2021-03-21T18:11:09.479661",
     "exception": false,
     "start_time": "2021-03-21T18:11:09.386695",
     "status": "completed"
    },
    "tags": []
   },
   "outputs": [],
   "source": [
    "from sklearn.preprocessing import StandardScaler\n",
    "scaler = StandardScaler()\n",
    "\n",
    "# scaling train_df\n",
    "X = scaler.fit_transform(train_df.loc[:,features].values)\n",
    "y = train[target]"
   ]
  },
  {
   "cell_type": "markdown",
   "id": "revised-mattress",
   "metadata": {
    "papermill": {
     "duration": 0.052333,
     "end_time": "2021-03-21T18:11:09.584558",
     "exception": false,
     "start_time": "2021-03-21T18:11:09.532225",
     "status": "completed"
    },
    "tags": []
   },
   "source": [
    "# 4. Modeling"
   ]
  },
  {
   "cell_type": "code",
   "execution_count": 13,
   "id": "sticky-music",
   "metadata": {
    "execution": {
     "iopub.execute_input": "2021-03-21T18:11:09.697505Z",
     "iopub.status.busy": "2021-03-21T18:11:09.696035Z",
     "iopub.status.idle": "2021-03-21T18:11:09.713187Z",
     "shell.execute_reply": "2021-03-21T18:11:09.712620Z"
    },
    "papermill": {
     "duration": 0.076216,
     "end_time": "2021-03-21T18:11:09.713335",
     "exception": false,
     "start_time": "2021-03-21T18:11:09.637119",
     "status": "completed"
    },
    "tags": []
   },
   "outputs": [],
   "source": [
    "# train-test split\n",
    "\n",
    "X_train, X_test, y_train, y_test = train_test_split(X, y, test_size=0.25, random_state=42)"
   ]
  },
  {
   "cell_type": "code",
   "execution_count": 14,
   "id": "classified-fancy",
   "metadata": {
    "execution": {
     "iopub.execute_input": "2021-03-21T18:11:09.826682Z",
     "iopub.status.busy": "2021-03-21T18:11:09.826044Z",
     "iopub.status.idle": "2021-03-21T18:11:09.829675Z",
     "shell.execute_reply": "2021-03-21T18:11:09.829167Z"
    },
    "papermill": {
     "duration": 0.062486,
     "end_time": "2021-03-21T18:11:09.829824",
     "exception": false,
     "start_time": "2021-03-21T18:11:09.767338",
     "status": "completed"
    },
    "tags": []
   },
   "outputs": [
    {
     "data": {
      "text/plain": [
       "((30341, 26), (10114, 26), (30341,), (10114,))"
      ]
     },
     "execution_count": 14,
     "metadata": {},
     "output_type": "execute_result"
    }
   ],
   "source": [
    "X_train.shape , X_test.shape , y_train.shape , y_test.shape"
   ]
  },
  {
   "cell_type": "code",
   "execution_count": 15,
   "id": "whole-archives",
   "metadata": {
    "execution": {
     "iopub.execute_input": "2021-03-21T18:11:09.943050Z",
     "iopub.status.busy": "2021-03-21T18:11:09.942402Z",
     "iopub.status.idle": "2021-03-21T18:11:17.401581Z",
     "shell.execute_reply": "2021-03-21T18:11:17.400845Z"
    },
    "papermill": {
     "duration": 7.518191,
     "end_time": "2021-03-21T18:11:17.401728",
     "exception": false,
     "start_time": "2021-03-21T18:11:09.883537",
     "status": "completed"
    },
    "tags": []
   },
   "outputs": [
    {
     "data": {
      "text/plain": [
       "541.3426033152127"
      ]
     },
     "execution_count": 15,
     "metadata": {},
     "output_type": "execute_result"
    }
   ],
   "source": [
    "from sklearn.ensemble import ExtraTreesRegressor\n",
    "extratr = ExtraTreesRegressor(bootstrap=False, max_features=0.8, min_samples_leaf=1, min_samples_split=16, n_estimators=100)\n",
    "model_extratr = extratr.fit(X_train, y_train)\n",
    "\n",
    "predictions_train = model_extratr.predict(X_train)\n",
    "y_pred_extratr = model_extratr.predict(X_test)\n",
    "mean_squared_error(y_test, y_pred_extratr)**0.5"
   ]
  },
  {
   "cell_type": "markdown",
   "id": "removed-harmony",
   "metadata": {
    "papermill": {
     "duration": 0.053206,
     "end_time": "2021-03-21T18:11:17.508616",
     "exception": false,
     "start_time": "2021-03-21T18:11:17.455410",
     "status": "completed"
    },
    "tags": []
   },
   "source": [
    "## 3.3. Linear Regression"
   ]
  },
  {
   "cell_type": "code",
   "execution_count": 16,
   "id": "packed-premises",
   "metadata": {
    "execution": {
     "iopub.execute_input": "2021-03-21T18:11:17.620791Z",
     "iopub.status.busy": "2021-03-21T18:11:17.620103Z",
     "iopub.status.idle": "2021-03-21T18:11:17.682288Z",
     "shell.execute_reply": "2021-03-21T18:11:17.683234Z"
    },
    "papermill": {
     "duration": 0.121573,
     "end_time": "2021-03-21T18:11:17.683513",
     "exception": false,
     "start_time": "2021-03-21T18:11:17.561940",
     "status": "completed"
    },
    "tags": []
   },
   "outputs": [],
   "source": [
    "from sklearn.linear_model import LinearRegression\n",
    "model = LinearRegression()\n",
    "model.fit(X_train, y_train)\n",
    "y_pred_lr = model.predict(X_test)"
   ]
  },
  {
   "cell_type": "code",
   "execution_count": 17,
   "id": "clear-theta",
   "metadata": {
    "execution": {
     "iopub.execute_input": "2021-03-21T18:11:17.843395Z",
     "iopub.status.busy": "2021-03-21T18:11:17.842495Z",
     "iopub.status.idle": "2021-03-21T18:11:17.846608Z",
     "shell.execute_reply": "2021-03-21T18:11:17.845982Z"
    },
    "papermill": {
     "duration": 0.066791,
     "end_time": "2021-03-21T18:11:17.846746",
     "exception": false,
     "start_time": "2021-03-21T18:11:17.779955",
     "status": "completed"
    },
    "tags": []
   },
   "outputs": [
    {
     "data": {
      "text/plain": [
       "1128.0322070344253"
      ]
     },
     "execution_count": 17,
     "metadata": {},
     "output_type": "execute_result"
    }
   ],
   "source": [
    "# RMSE Linear Regression\n",
    "\n",
    "from sklearn.metrics import mean_squared_error\n",
    "mean_squared_error(y_test, y_pred_lr)**0.5"
   ]
  },
  {
   "cell_type": "markdown",
   "id": "seeing-sentence",
   "metadata": {
    "papermill": {
     "duration": 0.053446,
     "end_time": "2021-03-21T18:11:17.954971",
     "exception": false,
     "start_time": "2021-03-21T18:11:17.901525",
     "status": "completed"
    },
    "tags": []
   },
   "source": [
    "## 3.4. Random Forest Regressor"
   ]
  },
  {
   "cell_type": "code",
   "execution_count": 18,
   "id": "assumed-single",
   "metadata": {
    "execution": {
     "iopub.execute_input": "2021-03-21T18:11:18.068109Z",
     "iopub.status.busy": "2021-03-21T18:11:18.067476Z",
     "iopub.status.idle": "2021-03-21T18:11:34.246411Z",
     "shell.execute_reply": "2021-03-21T18:11:34.245846Z"
    },
    "papermill": {
     "duration": 16.237724,
     "end_time": "2021-03-21T18:11:34.246570",
     "exception": false,
     "start_time": "2021-03-21T18:11:18.008846",
     "status": "completed"
    },
    "tags": []
   },
   "outputs": [
    {
     "data": {
      "text/plain": [
       "564.7138424059965"
      ]
     },
     "execution_count": 18,
     "metadata": {},
     "output_type": "execute_result"
    }
   ],
   "source": [
    "rf = RandomForestRegressor()\n",
    "model_rf = rf.fit(X_train, y_train)\n",
    "y_pred_rf = rf.predict(X_test)\n",
    "\n",
    "# RMSE Random Forest\n",
    "\n",
    "mean_squared_error(y_test, y_pred_rf)**0.5"
   ]
  },
  {
   "cell_type": "code",
   "execution_count": 19,
   "id": "humanitarian-implementation",
   "metadata": {
    "execution": {
     "iopub.execute_input": "2021-03-21T18:11:34.361834Z",
     "iopub.status.busy": "2021-03-21T18:11:34.361152Z",
     "iopub.status.idle": "2021-03-21T18:11:34.365898Z",
     "shell.execute_reply": "2021-03-21T18:11:34.365296Z"
    },
    "papermill": {
     "duration": 0.064336,
     "end_time": "2021-03-21T18:11:34.366042",
     "exception": false,
     "start_time": "2021-03-21T18:11:34.301706",
     "status": "completed"
    },
    "tags": []
   },
   "outputs": [
    {
     "data": {
      "text/plain": [
       "564.7138424059965"
      ]
     },
     "execution_count": 19,
     "metadata": {},
     "output_type": "execute_result"
    }
   ],
   "source": [
    "# RMSE Random Forest\n",
    "\n",
    "mean_squared_error(y_test, y_pred_rf)**0.5"
   ]
  },
  {
   "cell_type": "code",
   "execution_count": 20,
   "id": "authentic-scheduling",
   "metadata": {
    "execution": {
     "iopub.execute_input": "2021-03-21T18:11:34.484351Z",
     "iopub.status.busy": "2021-03-21T18:11:34.483550Z",
     "iopub.status.idle": "2021-03-21T18:11:34.487906Z",
     "shell.execute_reply": "2021-03-21T18:11:34.488513Z"
    },
    "papermill": {
     "duration": 0.067349,
     "end_time": "2021-03-21T18:11:34.488707",
     "exception": false,
     "start_time": "2021-03-21T18:11:34.421358",
     "status": "completed"
    },
    "tags": []
   },
   "outputs": [
    {
     "data": {
      "text/plain": [
       "\"\\nptmodel = RandomForestRegressor()\\nptparams = ({'n_estimators': np.arange(500,1000), 'n_jobs': np.arange(1,10) , 'max_depth': np.arange(1,10)})\\ngridsearch = GridSearchCV(ptmodel,ptparams)\\ngridsearch.fit(X_train,y_train)\\ngridsearch.best_params_\\n\\nOutput:\\nn_jobs=7, n_estimators=1000\\n\""
      ]
     },
     "execution_count": 20,
     "metadata": {},
     "output_type": "execute_result"
    }
   ],
   "source": [
    "# testing Gridsearch with random forest regressor\n",
    "\n",
    "\"\"\"\n",
    "ptmodel = RandomForestRegressor()\n",
    "ptparams = ({'n_estimators': np.arange(500,1000), 'n_jobs': np.arange(1,10) , 'max_depth': np.arange(1,10)})\n",
    "gridsearch = GridSearchCV(ptmodel,ptparams)\n",
    "gridsearch.fit(X_train,y_train)\n",
    "gridsearch.best_params_\n",
    "\n",
    "Output:\n",
    "n_jobs=7, n_estimators=1000\n",
    "\"\"\""
   ]
  },
  {
   "cell_type": "code",
   "execution_count": 21,
   "id": "precious-screening",
   "metadata": {
    "execution": {
     "iopub.execute_input": "2021-03-21T18:11:34.607420Z",
     "iopub.status.busy": "2021-03-21T18:11:34.606334Z",
     "iopub.status.idle": "2021-03-21T18:12:36.927616Z",
     "shell.execute_reply": "2021-03-21T18:12:36.928453Z"
    },
    "papermill": {
     "duration": 62.384037,
     "end_time": "2021-03-21T18:12:36.928692",
     "exception": false,
     "start_time": "2021-03-21T18:11:34.544655",
     "status": "completed"
    },
    "tags": []
   },
   "outputs": [
    {
     "data": {
      "text/plain": [
       "561.5937848225822"
      ]
     },
     "execution_count": 21,
     "metadata": {},
     "output_type": "execute_result"
    }
   ],
   "source": [
    "rf = RandomForestRegressor(n_jobs=7, n_estimators=1000)\n",
    "model_rf = rf.fit(X_train, y_train)\n",
    "y_pred_rf = rf.predict(X_test)\n",
    "\n",
    "# RMSE Random Forest\n",
    "\n",
    "mean_squared_error(y_test, y_pred_rf)**0.5"
   ]
  },
  {
   "cell_type": "markdown",
   "id": "resident-commodity",
   "metadata": {
    "papermill": {
     "duration": 0.056622,
     "end_time": "2021-03-21T18:12:37.047969",
     "exception": false,
     "start_time": "2021-03-21T18:12:36.991347",
     "status": "completed"
    },
    "tags": []
   },
   "source": [
    "## 3.6. KNeighbors Regressor"
   ]
  },
  {
   "cell_type": "code",
   "execution_count": 22,
   "id": "atomic-missile",
   "metadata": {
    "execution": {
     "iopub.execute_input": "2021-03-21T18:12:37.168177Z",
     "iopub.status.busy": "2021-03-21T18:12:37.167169Z",
     "iopub.status.idle": "2021-03-21T18:12:49.379465Z",
     "shell.execute_reply": "2021-03-21T18:12:49.380026Z"
    },
    "papermill": {
     "duration": 12.27408,
     "end_time": "2021-03-21T18:12:49.380211",
     "exception": false,
     "start_time": "2021-03-21T18:12:37.106131",
     "status": "completed"
    },
    "tags": []
   },
   "outputs": [],
   "source": [
    "# KNeighbors model \n",
    "\n",
    "clf_knn = KNeighborsRegressor()\n",
    "model_knn = clf_knn.fit(X_train , y_train)\n",
    "y_pred_knn = clf_knn.predict(X_test)"
   ]
  },
  {
   "cell_type": "code",
   "execution_count": 23,
   "id": "focused-escape",
   "metadata": {
    "execution": {
     "iopub.execute_input": "2021-03-21T18:12:49.497352Z",
     "iopub.status.busy": "2021-03-21T18:12:49.496604Z",
     "iopub.status.idle": "2021-03-21T18:12:49.501913Z",
     "shell.execute_reply": "2021-03-21T18:12:49.502396Z"
    },
    "papermill": {
     "duration": 0.065539,
     "end_time": "2021-03-21T18:12:49.502562",
     "exception": false,
     "start_time": "2021-03-21T18:12:49.437023",
     "status": "completed"
    },
    "tags": []
   },
   "outputs": [
    {
     "data": {
      "text/plain": [
       "943.6132657427737"
      ]
     },
     "execution_count": 23,
     "metadata": {},
     "output_type": "execute_result"
    }
   ],
   "source": [
    "# RMSE KNeighbors (It's greater than Random Forest so maybe is not the best model)\n",
    "\n",
    "mean_squared_error(y_test, y_pred_knn)**0.5"
   ]
  },
  {
   "cell_type": "code",
   "execution_count": 24,
   "id": "extraordinary-toddler",
   "metadata": {
    "execution": {
     "iopub.execute_input": "2021-03-21T18:12:49.620193Z",
     "iopub.status.busy": "2021-03-21T18:12:49.619439Z",
     "iopub.status.idle": "2021-03-21T18:12:49.624255Z",
     "shell.execute_reply": "2021-03-21T18:12:49.624849Z"
    },
    "papermill": {
     "duration": 0.065515,
     "end_time": "2021-03-21T18:12:49.625036",
     "exception": false,
     "start_time": "2021-03-21T18:12:49.559521",
     "status": "completed"
    },
    "tags": []
   },
   "outputs": [
    {
     "data": {
      "text/plain": [
       "\"\\nptmodel = KNeighborsRegressor()\\nptrange = np.arange(1,11)\\nptparams = ({'n_neighbors': ptrange})\\ngridsearch = GridSearchCV(ptmodel,ptparams,cv=10)\\n\\ngridsearch.fit(X_train,y_train)\\ngridsearch.best_params_\\ngridsearch.best_score_\\n\\nOutput:\\nn_neighbors=3\\n\\n\""
      ]
     },
     "execution_count": 24,
     "metadata": {},
     "output_type": "execute_result"
    }
   ],
   "source": [
    "# Optimizing model using Grid Search\n",
    "\n",
    "\"\"\"\n",
    "ptmodel = KNeighborsRegressor()\n",
    "ptrange = np.arange(1,11)\n",
    "ptparams = ({'n_neighbors': ptrange})\n",
    "gridsearch = GridSearchCV(ptmodel,ptparams,cv=10)\n",
    "\n",
    "gridsearch.fit(X_train,y_train)\n",
    "gridsearch.best_params_\n",
    "gridsearch.best_score_\n",
    "\n",
    "Output:\n",
    "n_neighbors=3\n",
    "\n",
    "\"\"\""
   ]
  },
  {
   "cell_type": "code",
   "execution_count": 25,
   "id": "vanilla-brooks",
   "metadata": {
    "execution": {
     "iopub.execute_input": "2021-03-21T18:12:49.745246Z",
     "iopub.status.busy": "2021-03-21T18:12:49.744510Z",
     "iopub.status.idle": "2021-03-21T18:12:59.716623Z",
     "shell.execute_reply": "2021-03-21T18:12:59.716084Z"
    },
    "papermill": {
     "duration": 10.033983,
     "end_time": "2021-03-21T18:12:59.716782",
     "exception": false,
     "start_time": "2021-03-21T18:12:49.682799",
     "status": "completed"
    },
    "tags": []
   },
   "outputs": [
    {
     "data": {
      "text/plain": [
       "930.4377690423526"
      ]
     },
     "execution_count": 25,
     "metadata": {},
     "output_type": "execute_result"
    }
   ],
   "source": [
    "# making the model again with the best param, n_neghbors=3\n",
    "clf_knn = KNeighborsRegressor(n_neighbors=3)\n",
    "model_knn = clf_knn.fit(X_train , y_train)\n",
    "y_pred_knn = clf_knn.predict(X_test)\n",
    "mean_squared_error(y_test, y_pred_knn)**0.5"
   ]
  },
  {
   "cell_type": "markdown",
   "id": "registered-replication",
   "metadata": {
    "papermill": {
     "duration": 0.05798,
     "end_time": "2021-03-21T18:12:59.834311",
     "exception": false,
     "start_time": "2021-03-21T18:12:59.776331",
     "status": "completed"
    },
    "tags": []
   },
   "source": [
    "# 4.6. Decision Trees"
   ]
  },
  {
   "cell_type": "markdown",
   "id": "suitable-witch",
   "metadata": {
    "papermill": {
     "duration": 0.057665,
     "end_time": "2021-03-21T18:12:59.950947",
     "exception": false,
     "start_time": "2021-03-21T18:12:59.893282",
     "status": "completed"
    },
    "tags": []
   },
   "source": [
    "### 4.6.1. Gradient Boosting"
   ]
  },
  {
   "cell_type": "code",
   "execution_count": 26,
   "id": "figured-regression",
   "metadata": {
    "execution": {
     "iopub.execute_input": "2021-03-21T18:13:00.075139Z",
     "iopub.status.busy": "2021-03-21T18:13:00.074043Z",
     "iopub.status.idle": "2021-03-21T18:13:00.077454Z",
     "shell.execute_reply": "2021-03-21T18:13:00.076859Z"
    },
    "papermill": {
     "duration": 0.068438,
     "end_time": "2021-03-21T18:13:00.077586",
     "exception": false,
     "start_time": "2021-03-21T18:13:00.009148",
     "status": "completed"
    },
    "tags": []
   },
   "outputs": [],
   "source": [
    "params = {'n_estimators': 500,\n",
    "          'max_depth': 4,\n",
    "          'min_samples_split': 5,\n",
    "          'learning_rate': 0.01,\n",
    "          'loss': 'ls'}"
   ]
  },
  {
   "cell_type": "code",
   "execution_count": 27,
   "id": "biological-vertex",
   "metadata": {
    "execution": {
     "iopub.execute_input": "2021-03-21T18:13:00.199478Z",
     "iopub.status.busy": "2021-03-21T18:13:00.198782Z",
     "iopub.status.idle": "2021-03-21T18:13:29.046158Z",
     "shell.execute_reply": "2021-03-21T18:13:29.045416Z"
    },
    "papermill": {
     "duration": 28.910994,
     "end_time": "2021-03-21T18:13:29.046319",
     "exception": false,
     "start_time": "2021-03-21T18:13:00.135325",
     "status": "completed"
    },
    "tags": []
   },
   "outputs": [
    {
     "data": {
      "text/plain": [
       "749.0263280245646"
      ]
     },
     "execution_count": 27,
     "metadata": {},
     "output_type": "execute_result"
    }
   ],
   "source": [
    "# gradient boosting\n",
    "\n",
    "reg = GradientBoostingRegressor(**params)\n",
    "model_gb = reg.fit(X_train, y_train)\n",
    "y_pred_gb = reg.predict(X_test)\n",
    "mean_squared_error(y_test, y_pred_gb)**0.5"
   ]
  },
  {
   "cell_type": "code",
   "execution_count": 28,
   "id": "following-richardson",
   "metadata": {
    "execution": {
     "iopub.execute_input": "2021-03-21T18:13:29.169560Z",
     "iopub.status.busy": "2021-03-21T18:13:29.168505Z",
     "iopub.status.idle": "2021-03-21T18:13:29.172470Z",
     "shell.execute_reply": "2021-03-21T18:13:29.172981Z"
    },
    "papermill": {
     "duration": 0.068043,
     "end_time": "2021-03-21T18:13:29.173149",
     "exception": false,
     "start_time": "2021-03-21T18:13:29.105106",
     "status": "completed"
    },
    "tags": []
   },
   "outputs": [
    {
     "data": {
      "text/plain": [
       "\"\\nptmodel = GradientBoostingRegressor()\\n#ptrange = np.arange(1,1000)\\nptparams = ({'n_estimators': np.arange(1,1000), 'max_depth': np.arange(1,10)})\\ngridsearch = GridSearchCV(ptmodel,ptparams,cv=10)\\ngridsearch.fit(X_train,y_train)\\ngridsearch.best_params_\\n\\nOutput:\\n\""
      ]
     },
     "execution_count": 28,
     "metadata": {},
     "output_type": "execute_result"
    }
   ],
   "source": [
    "# looking the best parameters of Gradient Boosting with Grid Search\n",
    "\n",
    "\"\"\"\n",
    "ptmodel = GradientBoostingRegressor()\n",
    "#ptrange = np.arange(1,1000)\n",
    "ptparams = ({'n_estimators': np.arange(1,1000), 'max_depth': np.arange(1,10)})\n",
    "gridsearch = GridSearchCV(ptmodel,ptparams,cv=10)\n",
    "gridsearch.fit(X_train,y_train)\n",
    "gridsearch.best_params_\n",
    "\n",
    "Output:\n",
    "\"\"\""
   ]
  },
  {
   "cell_type": "markdown",
   "id": "original-limitation",
   "metadata": {
    "papermill": {
     "duration": 0.058632,
     "end_time": "2021-03-21T18:13:29.290621",
     "exception": false,
     "start_time": "2021-03-21T18:13:29.231989",
     "status": "completed"
    },
    "tags": []
   },
   "source": [
    "### 4.6.2. XGBRegressor"
   ]
  },
  {
   "cell_type": "code",
   "execution_count": 29,
   "id": "reflected-conversion",
   "metadata": {
    "execution": {
     "iopub.execute_input": "2021-03-21T18:13:29.414305Z",
     "iopub.status.busy": "2021-03-21T18:13:29.413633Z",
     "iopub.status.idle": "2021-03-21T18:13:31.538369Z",
     "shell.execute_reply": "2021-03-21T18:13:31.537775Z"
    },
    "papermill": {
     "duration": 2.18862,
     "end_time": "2021-03-21T18:13:31.538539",
     "exception": false,
     "start_time": "2021-03-21T18:13:29.349919",
     "status": "completed"
    },
    "tags": []
   },
   "outputs": [
    {
     "data": {
      "text/plain": [
       "558.8851276889533"
      ]
     },
     "execution_count": 29,
     "metadata": {},
     "output_type": "execute_result"
    }
   ],
   "source": [
    "# XGBRegressor : best result by now\n",
    "\n",
    "from xgboost import XGBRegressor\n",
    "\n",
    "xgbr = XGBRegressor(verbosity=0) \n",
    "model_xgbr = xgbr.fit(X_train, y_train)\n",
    "y_pred_xgbr = xgbr.predict(X_test)\n",
    "mean_squared_error(y_test, y_pred_xgbr)**0.5"
   ]
  },
  {
   "cell_type": "code",
   "execution_count": 30,
   "id": "painful-validation",
   "metadata": {
    "execution": {
     "iopub.execute_input": "2021-03-21T18:13:31.666735Z",
     "iopub.status.busy": "2021-03-21T18:13:31.665848Z",
     "iopub.status.idle": "2021-03-21T18:13:31.670486Z",
     "shell.execute_reply": "2021-03-21T18:13:31.669878Z"
    },
    "papermill": {
     "duration": 0.069838,
     "end_time": "2021-03-21T18:13:31.670636",
     "exception": false,
     "start_time": "2021-03-21T18:13:31.600798",
     "status": "completed"
    },
    "tags": []
   },
   "outputs": [
    {
     "data": {
      "text/plain": [
       "'\"\\nptmodel = XGBRegressor()\\nparams = {\\'min_child_weight\\':[4,5], \\'gamma\\':[i/10.0 for i in range(3,6)],  \\'subsample\\':[i/10.0 for i in range(6,11)],\\n\\'colsample_bytree\\':[i/10.0 for i in range(6,11)], \\'max_depth\\': [2,3,4]}\\ngridsearch = GridSearchCV(ptmodel,params)\\ngridsearch.fit(X_train,y_train)\\ngridsearch.best_params_\\n\\nOutput:\\n{\\'colsample_bytree\\': 0.9,\\n \\'gamma\\': 0.3,\\n \\'max_depth\\': 4,\\n \\'min_child_weight\\': 4,\\n \\'subsample\\': 1.0}\\n '"
      ]
     },
     "execution_count": 30,
     "metadata": {},
     "output_type": "execute_result"
    }
   ],
   "source": [
    "# looking the best parameters of XGBRegressor with Grid Search\n",
    "\n",
    "\"\"\"\"\n",
    "ptmodel = XGBRegressor()\n",
    "params = {'min_child_weight':[4,5], 'gamma':[i/10.0 for i in range(3,6)],  'subsample':[i/10.0 for i in range(6,11)],\n",
    "'colsample_bytree':[i/10.0 for i in range(6,11)], 'max_depth': [2,3,4]}\n",
    "gridsearch = GridSearchCV(ptmodel,params)\n",
    "gridsearch.fit(X_train,y_train)\n",
    "gridsearch.best_params_\n",
    "\n",
    "Output:\n",
    "{'colsample_bytree': 0.9,\n",
    " 'gamma': 0.3,\n",
    " 'max_depth': 4,\n",
    " 'min_child_weight': 4,\n",
    " 'subsample': 1.0}\n",
    " \"\"\""
   ]
  },
  {
   "cell_type": "code",
   "execution_count": 31,
   "id": "close-grenada",
   "metadata": {
    "execution": {
     "iopub.execute_input": "2021-03-21T18:13:31.802352Z",
     "iopub.status.busy": "2021-03-21T18:13:31.801489Z",
     "iopub.status.idle": "2021-03-21T18:13:34.040482Z",
     "shell.execute_reply": "2021-03-21T18:13:34.041608Z"
    },
    "papermill": {
     "duration": 2.311025,
     "end_time": "2021-03-21T18:13:34.041841",
     "exception": false,
     "start_time": "2021-03-21T18:13:31.730816",
     "status": "completed"
    },
    "tags": []
   },
   "outputs": [
    {
     "data": {
      "text/plain": [
       "552.9287219780743"
      ]
     },
     "execution_count": 31,
     "metadata": {},
     "output_type": "execute_result"
    }
   ],
   "source": [
    "# doing again the XGBRegressor model with the best hyperparameters, but changing max_depth\n",
    "xgbr = XGBRegressor(verbosity=0, colsample_bytree=0.9, gamma=0.3, max_depth=8, min_child_weight=4, subsample=1.0) \n",
    "model_xgbr = xgbr.fit(X_train, y_train)\n",
    "y_pred_xgbr = xgbr.predict(X_test)\n",
    "mean_squared_error(y_test, y_pred_xgbr)**0.5"
   ]
  },
  {
   "cell_type": "markdown",
   "id": "closing-progress",
   "metadata": {
    "papermill": {
     "duration": 0.06045,
     "end_time": "2021-03-21T18:13:34.163326",
     "exception": false,
     "start_time": "2021-03-21T18:13:34.102876",
     "status": "completed"
    },
    "tags": []
   },
   "source": [
    "### 4.6.3. LGBMRegressor"
   ]
  },
  {
   "cell_type": "code",
   "execution_count": 32,
   "id": "handmade-constitutional",
   "metadata": {
    "execution": {
     "iopub.execute_input": "2021-03-21T18:13:34.290181Z",
     "iopub.status.busy": "2021-03-21T18:13:34.289451Z",
     "iopub.status.idle": "2021-03-21T18:13:34.784463Z",
     "shell.execute_reply": "2021-03-21T18:13:34.785418Z"
    },
    "papermill": {
     "duration": 0.561105,
     "end_time": "2021-03-21T18:13:34.785622",
     "exception": false,
     "start_time": "2021-03-21T18:13:34.224517",
     "status": "completed"
    },
    "tags": []
   },
   "outputs": [
    {
     "data": {
      "text/html": [
       "<style type='text/css'>\n",
       ".datatable table.frame { margin-bottom: 0; }\n",
       ".datatable table.frame thead { border-bottom: none; }\n",
       ".datatable table.frame tr.coltypes td {  color: #FFFFFF;  line-height: 6px;  padding: 0 0.5em;}\n",
       ".datatable .bool    { background: #DDDD99; }\n",
       ".datatable .object  { background: #565656; }\n",
       ".datatable .int     { background: #5D9E5D; }\n",
       ".datatable .float   { background: #4040CC; }\n",
       ".datatable .str     { background: #CC4040; }\n",
       ".datatable .row_index {  background: var(--jp-border-color3);  border-right: 1px solid var(--jp-border-color0);  color: var(--jp-ui-font-color3);  font-size: 9px;}\n",
       ".datatable .frame tr.coltypes .row_index {  background: var(--jp-border-color0);}\n",
       ".datatable th:nth-child(2) { padding-left: 12px; }\n",
       ".datatable .hellipsis {  color: var(--jp-cell-editor-border-color);}\n",
       ".datatable .vellipsis {  background: var(--jp-layout-color0);  color: var(--jp-cell-editor-border-color);}\n",
       ".datatable .na {  color: var(--jp-cell-editor-border-color);  font-size: 80%;}\n",
       ".datatable .footer { font-size: 9px; }\n",
       ".datatable .frame_dimensions {  background: var(--jp-border-color3);  border-top: 1px solid var(--jp-border-color0);  color: var(--jp-ui-font-color3);  display: inline-block;  opacity: 0.6;  padding: 1px 10px 1px 5px;}\n",
       "</style>\n"
      ],
      "text/plain": [
       "<IPython.core.display.HTML object>"
      ]
     },
     "metadata": {},
     "output_type": "display_data"
    },
    {
     "data": {
      "text/plain": [
       "556.4760082520434"
      ]
     },
     "execution_count": 32,
     "metadata": {},
     "output_type": "execute_result"
    }
   ],
   "source": [
    "# LGMB\n",
    "\n",
    "from lightgbm import LGBMRegressor\n",
    "\n",
    "lgmb = LGBMRegressor()\n",
    "model_lgmb = lgmb.fit(X_train, y_train)\n",
    "y_pred_lgmb = lgmb.predict(X_test)\n",
    "mean_squared_error(y_test, y_pred_lgmb)**0.5"
   ]
  },
  {
   "cell_type": "code",
   "execution_count": 33,
   "id": "expired-arlington",
   "metadata": {
    "execution": {
     "iopub.execute_input": "2021-03-21T18:13:34.915558Z",
     "iopub.status.busy": "2021-03-21T18:13:34.914485Z",
     "iopub.status.idle": "2021-03-21T18:13:34.918701Z",
     "shell.execute_reply": "2021-03-21T18:13:34.919193Z"
    },
    "papermill": {
     "duration": 0.071257,
     "end_time": "2021-03-21T18:13:34.919377",
     "exception": false,
     "start_time": "2021-03-21T18:13:34.848120",
     "status": "completed"
    },
    "tags": []
   },
   "outputs": [
    {
     "data": {
      "text/plain": [
       "'\"\\n\\nptmodel = LGBMRegressor()\\nparams = {\\n    \\'num_leaves\\': [7, 14, 21, 28, 31, 50],\\n    \\'learning_rate\\': [0.1, 0.03, 0.003],\\n    \\'max_depth\\': [2, 3, 4, 6, 8, 10],\\n    \\'n_estimators\\': [50, 100, 200, 500],\\n}\\n\\ngridsearch = GridSearchCV(ptmodel,params)\\ngridsearch.fit(X_train,y_train)\\ngridsearch.best_params_\\n\\nOutput:\\n{\\'learning_rate\\': 0.1, \\'max_depth\\': 4, \\'n_estimators\\': 500, \\'num_leaves\\': 21}\\n'"
      ]
     },
     "execution_count": 33,
     "metadata": {},
     "output_type": "execute_result"
    }
   ],
   "source": [
    "# looking fot the best parameters using Grid Search.\n",
    "\n",
    "\"\"\"\"\n",
    "\n",
    "ptmodel = LGBMRegressor()\n",
    "params = {\n",
    "    'num_leaves': [7, 14, 21, 28, 31, 50],\n",
    "    'learning_rate': [0.1, 0.03, 0.003],\n",
    "    'max_depth': [2, 3, 4, 6, 8, 10],\n",
    "    'n_estimators': [50, 100, 200, 500],\n",
    "}\n",
    "\n",
    "gridsearch = GridSearchCV(ptmodel,params)\n",
    "gridsearch.fit(X_train,y_train)\n",
    "gridsearch.best_params_\n",
    "\n",
    "Output:\n",
    "{'learning_rate': 0.1, 'max_depth': 4, 'n_estimators': 500, 'num_leaves': 21}\n",
    "\"\"\""
   ]
  },
  {
   "cell_type": "code",
   "execution_count": 34,
   "id": "popular-dinner",
   "metadata": {
    "execution": {
     "iopub.execute_input": "2021-03-21T18:13:35.048458Z",
     "iopub.status.busy": "2021-03-21T18:13:35.047391Z",
     "iopub.status.idle": "2021-03-21T18:13:35.788040Z",
     "shell.execute_reply": "2021-03-21T18:13:35.788593Z"
    },
    "papermill": {
     "duration": 0.806675,
     "end_time": "2021-03-21T18:13:35.788809",
     "exception": false,
     "start_time": "2021-03-21T18:13:34.982134",
     "status": "completed"
    },
    "tags": []
   },
   "outputs": [
    {
     "data": {
      "text/plain": [
       "550.2879515484341"
      ]
     },
     "execution_count": 34,
     "metadata": {},
     "output_type": "execute_result"
    }
   ],
   "source": [
    "# LGMB again with parameters ajusted\n",
    "\n",
    "from lightgbm import LGBMRegressor\n",
    "\n",
    "lgmb = LGBMRegressor(learning_rate=0.1, max_depth=8, n_estimators=400, num_leaves=21)\n",
    "model_lgmb = lgmb.fit(X_train, y_train)\n",
    "y_pred_lgmb = model_lgmb.predict(X_test)\n",
    "mean_squared_error(y_test, y_pred_lgmb)**0.5"
   ]
  },
  {
   "cell_type": "code",
   "execution_count": 35,
   "id": "rubber-following",
   "metadata": {
    "execution": {
     "iopub.execute_input": "2021-03-21T18:13:35.920237Z",
     "iopub.status.busy": "2021-03-21T18:13:35.919554Z",
     "iopub.status.idle": "2021-03-21T18:13:40.814665Z",
     "shell.execute_reply": "2021-03-21T18:13:40.814165Z"
    },
    "papermill": {
     "duration": 4.962272,
     "end_time": "2021-03-21T18:13:40.814821",
     "exception": false,
     "start_time": "2021-03-21T18:13:35.852549",
     "status": "completed"
    },
    "tags": []
   },
   "outputs": [
    {
     "data": {
      "text/plain": [
       "1587.9286375121553"
      ]
     },
     "execution_count": 35,
     "metadata": {},
     "output_type": "execute_result"
    }
   ],
   "source": [
    "# ADABoost Regressor: result very high.\n",
    "\n",
    "from sklearn.ensemble import AdaBoostRegressor\n",
    "ada = AdaBoostRegressor(n_estimators=100)\n",
    "model_ada = ada.fit(X_train, y_train)\n",
    "y_pred_ada = model_ada.predict(X_test)\n",
    "mean_squared_error(y_test, y_pred_ada)**0.5"
   ]
  },
  {
   "cell_type": "markdown",
   "id": "thick-glucose",
   "metadata": {
    "papermill": {
     "duration": 0.062997,
     "end_time": "2021-03-21T18:13:40.940260",
     "exception": false,
     "start_time": "2021-03-21T18:13:40.877263",
     "status": "completed"
    },
    "tags": []
   },
   "source": [
    "# 5. Pipeline"
   ]
  },
  {
   "cell_type": "code",
   "execution_count": 36,
   "id": "driven-suicide",
   "metadata": {
    "execution": {
     "iopub.execute_input": "2021-03-21T18:13:41.070607Z",
     "iopub.status.busy": "2021-03-21T18:13:41.069969Z",
     "iopub.status.idle": "2021-03-21T18:13:41.072472Z",
     "shell.execute_reply": "2021-03-21T18:13:41.073059Z"
    },
    "papermill": {
     "duration": 0.070629,
     "end_time": "2021-03-21T18:13:41.073237",
     "exception": false,
     "start_time": "2021-03-21T18:13:41.002608",
     "status": "completed"
    },
    "tags": []
   },
   "outputs": [],
   "source": [
    "numerical_transformer = Pipeline(steps=[('imputer', SimpleImputer(strategy='mean')),\n",
    "                                       ('scaler', StandardScaler())])"
   ]
  },
  {
   "cell_type": "code",
   "execution_count": 37,
   "id": "recognized-barrier",
   "metadata": {
    "execution": {
     "iopub.execute_input": "2021-03-21T18:13:41.206990Z",
     "iopub.status.busy": "2021-03-21T18:13:41.206321Z",
     "iopub.status.idle": "2021-03-21T18:13:41.221048Z",
     "shell.execute_reply": "2021-03-21T18:13:41.220439Z"
    },
    "papermill": {
     "duration": 0.085594,
     "end_time": "2021-03-21T18:13:41.221190",
     "exception": false,
     "start_time": "2021-03-21T18:13:41.135596",
     "status": "completed"
    },
    "tags": []
   },
   "outputs": [
    {
     "data": {
      "text/plain": [
       "array([[ 0.8670056 ,  0.45201864,  0.24798091,  0.97880679,  0.92198533,\n",
       "         1.02265738],\n",
       "       [-1.00455749,  0.8710986 , -0.19974534, -1.22673789, -1.17981558,\n",
       "        -1.1292594 ],\n",
       "       [-0.18443434,  2.61726508, -1.09519783, -0.09728557, -0.17688154,\n",
       "         0.16189067],\n",
       "       ...,\n",
       "       [ 0.44642962,  0.66155862, -0.64747158,  0.56971383,  0.5993022 ,\n",
       "         0.6783507 ],\n",
       "       [-0.98352869,  0.10278535, -1.4086062 , -1.13780463, -1.10132509,\n",
       "        -1.11491329],\n",
       "       [ 0.93009199,  0.172632  ,  0.24798091,  0.97880679,  1.00047582,\n",
       "         1.02265738]])"
      ]
     },
     "execution_count": 37,
     "metadata": {},
     "output_type": "execute_result"
    }
   ],
   "source": [
    "numerical_transformer.fit_transform(train[num_features])"
   ]
  },
  {
   "cell_type": "code",
   "execution_count": 38,
   "id": "passing-installation",
   "metadata": {
    "execution": {
     "iopub.execute_input": "2021-03-21T18:13:41.352228Z",
     "iopub.status.busy": "2021-03-21T18:13:41.351448Z",
     "iopub.status.idle": "2021-03-21T18:13:41.355867Z",
     "shell.execute_reply": "2021-03-21T18:13:41.356367Z"
    },
    "papermill": {
     "duration": 0.071369,
     "end_time": "2021-03-21T18:13:41.356545",
     "exception": false,
     "start_time": "2021-03-21T18:13:41.285176",
     "status": "completed"
    },
    "tags": []
   },
   "outputs": [],
   "source": [
    "categorical_transformer = Pipeline(steps=[('imputer', SimpleImputer(strategy='constant', fill_value='missing')),\n",
    "                                          ('encoder', OneHotEncoder(handle_unknown='ignore'))])"
   ]
  },
  {
   "cell_type": "code",
   "execution_count": 39,
   "id": "operating-chorus",
   "metadata": {
    "execution": {
     "iopub.execute_input": "2021-03-21T18:13:41.487568Z",
     "iopub.status.busy": "2021-03-21T18:13:41.486916Z",
     "iopub.status.idle": "2021-03-21T18:13:41.568701Z",
     "shell.execute_reply": "2021-03-21T18:13:41.568141Z"
    },
    "papermill": {
     "duration": 0.14813,
     "end_time": "2021-03-21T18:13:41.568934",
     "exception": false,
     "start_time": "2021-03-21T18:13:41.420804",
     "status": "completed"
    },
    "tags": []
   },
   "outputs": [
    {
     "data": {
      "text/plain": [
       "<40455x20 sparse matrix of type '<class 'numpy.float64'>'\n",
       "\twith 121365 stored elements in Compressed Sparse Row format>"
      ]
     },
     "execution_count": 39,
     "metadata": {},
     "output_type": "execute_result"
    }
   ],
   "source": [
    "categorical_transformer.fit_transform(train[cat_features])"
   ]
  },
  {
   "cell_type": "code",
   "execution_count": 40,
   "id": "funky-bikini",
   "metadata": {
    "execution": {
     "iopub.execute_input": "2021-03-21T18:13:41.704007Z",
     "iopub.status.busy": "2021-03-21T18:13:41.703238Z",
     "iopub.status.idle": "2021-03-21T18:13:41.706429Z",
     "shell.execute_reply": "2021-03-21T18:13:41.705925Z"
    },
    "papermill": {
     "duration": 0.072894,
     "end_time": "2021-03-21T18:13:41.706569",
     "exception": false,
     "start_time": "2021-03-21T18:13:41.633675",
     "status": "completed"
    },
    "tags": []
   },
   "outputs": [],
   "source": [
    "preprocessor = ColumnTransformer(transformers=[('numerical_preprocessor', numerical_transformer, num_features),\n",
    "                                                ('categorical_preprocessor', categorical_transformer, cat_features)])"
   ]
  },
  {
   "cell_type": "code",
   "execution_count": 41,
   "id": "arabic-content",
   "metadata": {
    "execution": {
     "iopub.execute_input": "2021-03-21T18:13:41.841641Z",
     "iopub.status.busy": "2021-03-21T18:13:41.840598Z",
     "iopub.status.idle": "2021-03-21T18:13:41.942165Z",
     "shell.execute_reply": "2021-03-21T18:13:41.941604Z"
    },
    "papermill": {
     "duration": 0.168966,
     "end_time": "2021-03-21T18:13:41.942320",
     "exception": false,
     "start_time": "2021-03-21T18:13:41.773354",
     "status": "completed"
    },
    "tags": []
   },
   "outputs": [
    {
     "data": {
      "text/plain": [
       "array([[ 0.8670056 ,  0.45201864,  0.24798091, ...,  1.        ,\n",
       "         0.        ,  0.        ],\n",
       "       [-1.00455749,  0.8710986 , -0.19974534, ...,  1.        ,\n",
       "         0.        ,  0.        ],\n",
       "       [-0.18443434,  2.61726508, -1.09519783, ...,  0.        ,\n",
       "         0.        ,  0.        ],\n",
       "       ...,\n",
       "       [ 0.44642962,  0.66155862, -0.64747158, ...,  0.        ,\n",
       "         0.        ,  0.        ],\n",
       "       [-0.98352869,  0.10278535, -1.4086062 , ...,  0.        ,\n",
       "         0.        ,  0.        ],\n",
       "       [ 0.93009199,  0.172632  ,  0.24798091, ...,  0.        ,\n",
       "         0.        ,  0.        ]])"
      ]
     },
     "execution_count": 41,
     "metadata": {},
     "output_type": "execute_result"
    }
   ],
   "source": [
    "# appliying preprocessor to all the tran data set\n",
    "features_pipeline = cat_features + num_features\n",
    "\n",
    "preprocessor.fit_transform(train[features_pipeline])"
   ]
  },
  {
   "cell_type": "code",
   "execution_count": 42,
   "id": "quantitative-butter",
   "metadata": {
    "execution": {
     "iopub.execute_input": "2021-03-21T18:13:42.078256Z",
     "iopub.status.busy": "2021-03-21T18:13:42.077554Z",
     "iopub.status.idle": "2021-03-21T18:13:42.080724Z",
     "shell.execute_reply": "2021-03-21T18:13:42.080122Z"
    },
    "papermill": {
     "duration": 0.073407,
     "end_time": "2021-03-21T18:13:42.080888",
     "exception": false,
     "start_time": "2021-03-21T18:13:42.007481",
     "status": "completed"
    },
    "tags": []
   },
   "outputs": [],
   "source": [
    "# creating pipeline\n",
    "\n",
    "pipeline_rf = Pipeline(steps=[('preprocessor', preprocessor),\n",
    "                       ('rf_regressor', RandomForestRegressor())]) "
   ]
  },
  {
   "cell_type": "code",
   "execution_count": 43,
   "id": "subject-manual",
   "metadata": {
    "execution": {
     "iopub.execute_input": "2021-03-21T18:13:42.214361Z",
     "iopub.status.busy": "2021-03-21T18:13:42.213697Z",
     "iopub.status.idle": "2021-03-21T18:13:42.219184Z",
     "shell.execute_reply": "2021-03-21T18:13:42.219711Z"
    },
    "papermill": {
     "duration": 0.073342,
     "end_time": "2021-03-21T18:13:42.219901",
     "exception": false,
     "start_time": "2021-03-21T18:13:42.146559",
     "status": "completed"
    },
    "tags": []
   },
   "outputs": [],
   "source": [
    "X = train[features_pipeline]\n",
    "y = train[target]"
   ]
  },
  {
   "cell_type": "code",
   "execution_count": 44,
   "id": "forty-sharp",
   "metadata": {
    "execution": {
     "iopub.execute_input": "2021-03-21T18:13:42.357506Z",
     "iopub.status.busy": "2021-03-21T18:13:42.356814Z",
     "iopub.status.idle": "2021-03-21T18:13:42.370633Z",
     "shell.execute_reply": "2021-03-21T18:13:42.370101Z"
    },
    "papermill": {
     "duration": 0.085434,
     "end_time": "2021-03-21T18:13:42.370794",
     "exception": false,
     "start_time": "2021-03-21T18:13:42.285360",
     "status": "completed"
    },
    "tags": []
   },
   "outputs": [
    {
     "data": {
      "text/plain": [
       "((30341, 9), (10114, 9), (30341,), (10114,))"
      ]
     },
     "execution_count": 44,
     "metadata": {},
     "output_type": "execute_result"
    }
   ],
   "source": [
    "# train-test split\n",
    "\n",
    "X_train, X_test, y_train, y_test = train_test_split(X, y, test_size=0.25, random_state=42)\n",
    "X_train.shape, X_test.shape, y_train.shape, y_test.shape"
   ]
  },
  {
   "cell_type": "code",
   "execution_count": 45,
   "id": "boolean-playing",
   "metadata": {
    "execution": {
     "iopub.execute_input": "2021-03-21T18:13:42.510435Z",
     "iopub.status.busy": "2021-03-21T18:13:42.509732Z",
     "iopub.status.idle": "2021-03-21T18:13:58.261515Z",
     "shell.execute_reply": "2021-03-21T18:13:58.260948Z"
    },
    "papermill": {
     "duration": 15.825785,
     "end_time": "2021-03-21T18:13:58.261671",
     "exception": false,
     "start_time": "2021-03-21T18:13:42.435886",
     "status": "completed"
    },
    "tags": []
   },
   "outputs": [],
   "source": [
    "# apllying my pipeline\n",
    "model_rf = pipeline_rf.fit(X_train, y_train)"
   ]
  },
  {
   "cell_type": "code",
   "execution_count": 46,
   "id": "particular-arena",
   "metadata": {
    "execution": {
     "iopub.execute_input": "2021-03-21T18:13:58.402057Z",
     "iopub.status.busy": "2021-03-21T18:13:58.400988Z",
     "iopub.status.idle": "2021-03-21T18:13:58.761278Z",
     "shell.execute_reply": "2021-03-21T18:13:58.760722Z"
    },
    "papermill": {
     "duration": 0.433732,
     "end_time": "2021-03-21T18:13:58.761429",
     "exception": false,
     "start_time": "2021-03-21T18:13:58.327697",
     "status": "completed"
    },
    "tags": []
   },
   "outputs": [],
   "source": [
    "y_pred_pipeline_rf = model_rf.predict(X_test)"
   ]
  },
  {
   "cell_type": "code",
   "execution_count": 47,
   "id": "alike-hydrogen",
   "metadata": {
    "execution": {
     "iopub.execute_input": "2021-03-21T18:13:58.899887Z",
     "iopub.status.busy": "2021-03-21T18:13:58.898723Z",
     "iopub.status.idle": "2021-03-21T18:13:58.904906Z",
     "shell.execute_reply": "2021-03-21T18:13:58.904387Z"
    },
    "papermill": {
     "duration": 0.077175,
     "end_time": "2021-03-21T18:13:58.905044",
     "exception": false,
     "start_time": "2021-03-21T18:13:58.827869",
     "status": "completed"
    },
    "tags": []
   },
   "outputs": [
    {
     "data": {
      "text/plain": [
       "564.5795980958993"
      ]
     },
     "execution_count": 47,
     "metadata": {},
     "output_type": "execute_result"
    }
   ],
   "source": [
    "mean_squared_error(y_test, y_pred_pipeline_rf)**0.5"
   ]
  },
  {
   "cell_type": "markdown",
   "id": "sublime-mercy",
   "metadata": {
    "papermill": {
     "duration": 0.065067,
     "end_time": "2021-03-21T18:13:59.035925",
     "exception": false,
     "start_time": "2021-03-21T18:13:58.970858",
     "status": "completed"
    },
    "tags": []
   },
   "source": [
    "# 5. Submission"
   ]
  },
  {
   "cell_type": "code",
   "execution_count": 48,
   "id": "ideal-utilization",
   "metadata": {
    "execution": {
     "iopub.execute_input": "2021-03-21T18:13:59.174158Z",
     "iopub.status.busy": "2021-03-21T18:13:59.173494Z",
     "iopub.status.idle": "2021-03-21T18:13:59.276719Z",
     "shell.execute_reply": "2021-03-21T18:13:59.277333Z"
    },
    "papermill": {
     "duration": 0.175965,
     "end_time": "2021-03-21T18:13:59.277531",
     "exception": false,
     "start_time": "2021-03-21T18:13:59.101566",
     "status": "completed"
    },
    "tags": []
   },
   "outputs": [],
   "source": [
    "# scaling test_df\n",
    "X_predict = scaler.transform(test_df.loc[:,features].values)\n",
    "\n",
    "# testing our model vs X_predict\n",
    "y_hat = model_lgmb.predict(X_predict)"
   ]
  },
  {
   "cell_type": "code",
   "execution_count": 49,
   "id": "specialized-newfoundland",
   "metadata": {
    "execution": {
     "iopub.execute_input": "2021-03-21T18:13:59.420062Z",
     "iopub.status.busy": "2021-03-21T18:13:59.419398Z",
     "iopub.status.idle": "2021-03-21T18:14:06.370194Z",
     "shell.execute_reply": "2021-03-21T18:14:06.369150Z"
    },
    "papermill": {
     "duration": 7.023117,
     "end_time": "2021-03-21T18:14:06.370435",
     "exception": false,
     "start_time": "2021-03-21T18:13:59.347318",
     "status": "completed"
    },
    "tags": []
   },
   "outputs": [],
   "source": [
    "# cross validation\n",
    "\n",
    "errors = cross_val_score(model_lgmb, X, y, cv=10, scoring='neg_root_mean_squared_error', n_jobs=-1)"
   ]
  },
  {
   "cell_type": "code",
   "execution_count": 50,
   "id": "adopted-router",
   "metadata": {
    "execution": {
     "iopub.execute_input": "2021-03-21T18:14:06.509590Z",
     "iopub.status.busy": "2021-03-21T18:14:06.508885Z",
     "iopub.status.idle": "2021-03-21T18:14:06.512343Z",
     "shell.execute_reply": "2021-03-21T18:14:06.512924Z"
    },
    "papermill": {
     "duration": 0.076382,
     "end_time": "2021-03-21T18:14:06.513116",
     "exception": false,
     "start_time": "2021-03-21T18:14:06.436734",
     "status": "completed"
    },
    "tags": []
   },
   "outputs": [
    {
     "data": {
      "text/plain": [
       "535.1988444339925"
      ]
     },
     "execution_count": 50,
     "metadata": {},
     "output_type": "execute_result"
    }
   ],
   "source": [
    "np.mean(-errors)"
   ]
  },
  {
   "cell_type": "code",
   "execution_count": 51,
   "id": "ranging-explosion",
   "metadata": {
    "execution": {
     "iopub.execute_input": "2021-03-21T18:14:06.651939Z",
     "iopub.status.busy": "2021-03-21T18:14:06.651162Z",
     "iopub.status.idle": "2021-03-21T18:14:06.713663Z",
     "shell.execute_reply": "2021-03-21T18:14:06.713056Z"
    },
    "papermill": {
     "duration": 0.132713,
     "end_time": "2021-03-21T18:14:06.713842",
     "exception": false,
     "start_time": "2021-03-21T18:14:06.581129",
     "status": "completed"
    },
    "tags": []
   },
   "outputs": [],
   "source": [
    "# exporting our results.\n",
    "submission = pd.DataFrame({'id': test['id'], 'price': y_hat})\n",
    "submission.to_csv('submission.csv', index=False)"
   ]
  }
 ],
 "metadata": {
  "kernelspec": {
   "display_name": "Python 3",
   "language": "python",
   "name": "python3"
  },
  "language_info": {
   "codemirror_mode": {
    "name": "ipython",
    "version": 3
   },
   "file_extension": ".py",
   "mimetype": "text/x-python",
   "name": "python",
   "nbconvert_exporter": "python",
   "pygments_lexer": "ipython3",
   "version": "3.7.9"
  },
  "papermill": {
   "default_parameters": {},
   "duration": 192.159755,
   "end_time": "2021-03-21T18:14:07.894537",
   "environment_variables": {},
   "exception": null,
   "input_path": "__notebook__.ipynb",
   "output_path": "__notebook__.ipynb",
   "parameters": {},
   "start_time": "2021-03-21T18:10:55.734782",
   "version": "2.3.2"
  }
 },
 "nbformat": 4,
 "nbformat_minor": 5
}
