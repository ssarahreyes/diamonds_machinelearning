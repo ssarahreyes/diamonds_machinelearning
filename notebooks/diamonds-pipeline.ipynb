{
 "cells": [
  {
   "cell_type": "code",
   "execution_count": 1,
   "metadata": {
    "_cell_guid": "b1076dfc-b9ad-4769-8c92-a6c4dae69d19",
    "_uuid": "8f2839f25d086af736a60e9eeb907d3b93b6e0e5",
    "execution": {
     "iopub.execute_input": "2021-03-21T18:04:03.584034Z",
     "iopub.status.busy": "2021-03-21T18:04:03.583336Z",
     "iopub.status.idle": "2021-03-21T18:04:05.598925Z",
     "shell.execute_reply": "2021-03-21T18:04:05.597706Z"
    },
    "papermill": {
     "duration": 2.043708,
     "end_time": "2021-03-21T18:04:05.599155",
     "exception": false,
     "start_time": "2021-03-21T18:04:03.555447",
     "status": "completed"
    },
    "tags": []
   },
   "outputs": [
    {
     "data": {
      "text/html": [
       "<style type='text/css'>\n",
       ".datatable table.frame { margin-bottom: 0; }\n",
       ".datatable table.frame thead { border-bottom: none; }\n",
       ".datatable table.frame tr.coltypes td {  color: #FFFFFF;  line-height: 6px;  padding: 0 0.5em;}\n",
       ".datatable .bool    { background: #DDDD99; }\n",
       ".datatable .object  { background: #565656; }\n",
       ".datatable .int     { background: #5D9E5D; }\n",
       ".datatable .float   { background: #4040CC; }\n",
       ".datatable .str     { background: #CC4040; }\n",
       ".datatable .row_index {  background: var(--jp-border-color3);  border-right: 1px solid var(--jp-border-color0);  color: var(--jp-ui-font-color3);  font-size: 9px;}\n",
       ".datatable .frame tr.coltypes .row_index {  background: var(--jp-border-color0);}\n",
       ".datatable th:nth-child(2) { padding-left: 12px; }\n",
       ".datatable .hellipsis {  color: var(--jp-cell-editor-border-color);}\n",
       ".datatable .vellipsis {  background: var(--jp-layout-color0);  color: var(--jp-cell-editor-border-color);}\n",
       ".datatable .na {  color: var(--jp-cell-editor-border-color);  font-size: 80%;}\n",
       ".datatable .footer { font-size: 9px; }\n",
       ".datatable .frame_dimensions {  background: var(--jp-border-color3);  border-top: 1px solid var(--jp-border-color0);  color: var(--jp-ui-font-color3);  display: inline-block;  opacity: 0.6;  padding: 1px 10px 1px 5px;}\n",
       "</style>\n"
      ],
      "text/plain": [
       "<IPython.core.display.HTML object>"
      ]
     },
     "metadata": {},
     "output_type": "display_data"
    }
   ],
   "source": [
    "# imports\n",
    "\n",
    "import numpy as np # linear algebra\n",
    "import pandas as pd # data processing, CSV file I/O (e.g. pd.read_csv)\n",
    "\n",
    "# data visualization\n",
    "\n",
    "import matplotlib.pyplot as plt\n",
    "import seaborn as sns\n",
    "\n",
    "# machine learning models\n",
    "\n",
    "from sklearn.model_selection import train_test_split\n",
    "from sklearn.linear_model import LinearRegression\n",
    "from sklearn.ensemble import RandomForestRegressor, RandomForestClassifier\n",
    "from sklearn.ensemble import GradientBoostingRegressor\n",
    "from sklearn.model_selection import RandomizedSearchCV\n",
    "from sklearn.neighbors import KNeighborsRegressor\n",
    "from sklearn.model_selection import GridSearchCV\n",
    "from sklearn.model_selection import RandomizedSearchCV\n",
    "from lightgbm import LGBMRegressor\n",
    "from sklearn.ensemble import AdaBoostRegressor\n",
    "from sklearn.tree import DecisionTreeRegressor\n",
    "from xgboost import XGBRegressor\n",
    "from sklearn.ensemble import ExtraTreesRegressor\n",
    "\n",
    "# error metrics\n",
    "\n",
    "from sklearn.metrics import mean_squared_error\n",
    "from sklearn.model_selection import cross_val_score\n",
    "\n",
    "# pipeline\n",
    "\n",
    "from sklearn.preprocessing import StandardScaler\n",
    "from sklearn.impute import SimpleImputer\n",
    "from sklearn.pipeline import Pipeline\n",
    "from sklearn.preprocessing import OneHotEncoder\n",
    "from sklearn.compose import ColumnTransformer"
   ]
  },
  {
   "cell_type": "code",
   "execution_count": 2,
   "metadata": {
    "execution": {
     "iopub.execute_input": "2021-03-21T18:04:05.638984Z",
     "iopub.status.busy": "2021-03-21T18:04:05.638096Z",
     "iopub.status.idle": "2021-03-21T18:04:05.724452Z",
     "shell.execute_reply": "2021-03-21T18:04:05.723907Z"
    },
    "papermill": {
     "duration": 0.108005,
     "end_time": "2021-03-21T18:04:05.724605",
     "exception": false,
     "start_time": "2021-03-21T18:04:05.616600",
     "status": "completed"
    },
    "tags": []
   },
   "outputs": [],
   "source": [
    "# for training our machine model and testing the results\n",
    "train = pd.read_csv('../input/dapt202011mad/diamonds_train.csv')"
   ]
  },
  {
   "cell_type": "code",
   "execution_count": 3,
   "metadata": {
    "execution": {
     "iopub.execute_input": "2021-03-21T18:04:05.763366Z",
     "iopub.status.busy": "2021-03-21T18:04:05.762704Z",
     "iopub.status.idle": "2021-03-21T18:04:05.802676Z",
     "shell.execute_reply": "2021-03-21T18:04:05.803214Z"
    },
    "papermill": {
     "duration": 0.06193,
     "end_time": "2021-03-21T18:04:05.803425",
     "exception": false,
     "start_time": "2021-03-21T18:04:05.741495",
     "status": "completed"
    },
    "tags": []
   },
   "outputs": [],
   "source": [
    "# to make our final price prediction\n",
    "test = pd.read_csv('../input/dapt202011mad/diamonds_test.csv')"
   ]
  },
  {
   "cell_type": "code",
   "execution_count": 4,
   "metadata": {
    "execution": {
     "iopub.execute_input": "2021-03-21T18:04:05.841300Z",
     "iopub.status.busy": "2021-03-21T18:04:05.840605Z",
     "iopub.status.idle": "2021-03-21T18:04:05.845062Z",
     "shell.execute_reply": "2021-03-21T18:04:05.845555Z"
    },
    "papermill": {
     "duration": 0.025079,
     "end_time": "2021-03-21T18:04:05.845739",
     "exception": false,
     "start_time": "2021-03-21T18:04:05.820660",
     "status": "completed"
    },
    "tags": []
   },
   "outputs": [],
   "source": [
    "target = 'price'\n",
    "cat_features = ['cut', 'color', 'clarity']\n",
    "num_features = ['carat', 'depth', 'table', 'x', 'y', 'z']\n",
    "features_pipeline = cat_features + num_features"
   ]
  },
  {
   "cell_type": "markdown",
   "metadata": {
    "papermill": {
     "duration": 0.018279,
     "end_time": "2021-03-21T18:04:05.881357",
     "exception": false,
     "start_time": "2021-03-21T18:04:05.863078",
     "status": "completed"
    },
    "tags": []
   },
   "source": [
    "# 2. PIPELINE"
   ]
  },
  {
   "cell_type": "code",
   "execution_count": 5,
   "metadata": {
    "execution": {
     "iopub.execute_input": "2021-03-21T18:04:05.920073Z",
     "iopub.status.busy": "2021-03-21T18:04:05.919317Z",
     "iopub.status.idle": "2021-03-21T18:04:05.924622Z",
     "shell.execute_reply": "2021-03-21T18:04:05.924087Z"
    },
    "papermill": {
     "duration": 0.025882,
     "end_time": "2021-03-21T18:04:05.924776",
     "exception": false,
     "start_time": "2021-03-21T18:04:05.898894",
     "status": "completed"
    },
    "tags": []
   },
   "outputs": [],
   "source": [
    "numerical_transformer = Pipeline(steps=[('imputer', SimpleImputer(strategy='mean')),\n",
    "                                       ('scaler', StandardScaler())])"
   ]
  },
  {
   "cell_type": "code",
   "execution_count": 6,
   "metadata": {
    "execution": {
     "iopub.execute_input": "2021-03-21T18:04:05.981020Z",
     "iopub.status.busy": "2021-03-21T18:04:05.970332Z",
     "iopub.status.idle": "2021-03-21T18:04:05.998263Z",
     "shell.execute_reply": "2021-03-21T18:04:05.997659Z"
    },
    "papermill": {
     "duration": 0.056083,
     "end_time": "2021-03-21T18:04:05.998419",
     "exception": false,
     "start_time": "2021-03-21T18:04:05.942336",
     "status": "completed"
    },
    "tags": []
   },
   "outputs": [
    {
     "data": {
      "text/plain": [
       "array([[ 0.8670056 ,  0.45201864,  0.24798091,  0.97880679,  0.92198533,\n",
       "         1.02265738],\n",
       "       [-1.00455749,  0.8710986 , -0.19974534, -1.22673789, -1.17981558,\n",
       "        -1.1292594 ],\n",
       "       [-0.18443434,  2.61726508, -1.09519783, -0.09728557, -0.17688154,\n",
       "         0.16189067],\n",
       "       ...,\n",
       "       [ 0.44642962,  0.66155862, -0.64747158,  0.56971383,  0.5993022 ,\n",
       "         0.6783507 ],\n",
       "       [-0.98352869,  0.10278535, -1.4086062 , -1.13780463, -1.10132509,\n",
       "        -1.11491329],\n",
       "       [ 0.93009199,  0.172632  ,  0.24798091,  0.97880679,  1.00047582,\n",
       "         1.02265738]])"
      ]
     },
     "execution_count": 6,
     "metadata": {},
     "output_type": "execute_result"
    }
   ],
   "source": [
    "numerical_transformer.fit_transform(train[num_features])"
   ]
  },
  {
   "cell_type": "code",
   "execution_count": 7,
   "metadata": {
    "execution": {
     "iopub.execute_input": "2021-03-21T18:04:06.041959Z",
     "iopub.status.busy": "2021-03-21T18:04:06.040652Z",
     "iopub.status.idle": "2021-03-21T18:04:06.044747Z",
     "shell.execute_reply": "2021-03-21T18:04:06.044088Z"
    },
    "papermill": {
     "duration": 0.028418,
     "end_time": "2021-03-21T18:04:06.044924",
     "exception": false,
     "start_time": "2021-03-21T18:04:06.016506",
     "status": "completed"
    },
    "tags": []
   },
   "outputs": [],
   "source": [
    "categorical_transformer = Pipeline(steps=[('imputer', SimpleImputer(strategy='constant', fill_value='missing')),\n",
    "                                          ('encoder', OneHotEncoder(handle_unknown='ignore'))])"
   ]
  },
  {
   "cell_type": "code",
   "execution_count": 8,
   "metadata": {
    "execution": {
     "iopub.execute_input": "2021-03-21T18:04:06.090270Z",
     "iopub.status.busy": "2021-03-21T18:04:06.087077Z",
     "iopub.status.idle": "2021-03-21T18:04:06.165643Z",
     "shell.execute_reply": "2021-03-21T18:04:06.166254Z"
    },
    "papermill": {
     "duration": 0.103544,
     "end_time": "2021-03-21T18:04:06.166450",
     "exception": false,
     "start_time": "2021-03-21T18:04:06.062906",
     "status": "completed"
    },
    "tags": []
   },
   "outputs": [
    {
     "data": {
      "text/plain": [
       "<40455x20 sparse matrix of type '<class 'numpy.float64'>'\n",
       "\twith 121365 stored elements in Compressed Sparse Row format>"
      ]
     },
     "execution_count": 8,
     "metadata": {},
     "output_type": "execute_result"
    }
   ],
   "source": [
    "categorical_transformer.fit_transform(train[cat_features])"
   ]
  },
  {
   "cell_type": "code",
   "execution_count": 9,
   "metadata": {
    "execution": {
     "iopub.execute_input": "2021-03-21T18:04:06.221441Z",
     "iopub.status.busy": "2021-03-21T18:04:06.220236Z",
     "iopub.status.idle": "2021-03-21T18:04:06.223652Z",
     "shell.execute_reply": "2021-03-21T18:04:06.222688Z"
    },
    "papermill": {
     "duration": 0.032369,
     "end_time": "2021-03-21T18:04:06.223987",
     "exception": false,
     "start_time": "2021-03-21T18:04:06.191618",
     "status": "completed"
    },
    "tags": []
   },
   "outputs": [],
   "source": [
    "preprocessor = ColumnTransformer(transformers=[('numerical_preprocessor', numerical_transformer, num_features),\n",
    "                                                ('categorical_preprocessor', categorical_transformer, cat_features)])"
   ]
  },
  {
   "cell_type": "code",
   "execution_count": 10,
   "metadata": {
    "execution": {
     "iopub.execute_input": "2021-03-21T18:04:06.286094Z",
     "iopub.status.busy": "2021-03-21T18:04:06.284840Z",
     "iopub.status.idle": "2021-03-21T18:04:06.397703Z",
     "shell.execute_reply": "2021-03-21T18:04:06.397075Z"
    },
    "papermill": {
     "duration": 0.150927,
     "end_time": "2021-03-21T18:04:06.397891",
     "exception": false,
     "start_time": "2021-03-21T18:04:06.246964",
     "status": "completed"
    },
    "tags": []
   },
   "outputs": [
    {
     "data": {
      "text/plain": [
       "array([[ 0.8670056 ,  0.45201864,  0.24798091, ...,  1.        ,\n",
       "         0.        ,  0.        ],\n",
       "       [-1.00455749,  0.8710986 , -0.19974534, ...,  1.        ,\n",
       "         0.        ,  0.        ],\n",
       "       [-0.18443434,  2.61726508, -1.09519783, ...,  0.        ,\n",
       "         0.        ,  0.        ],\n",
       "       ...,\n",
       "       [ 0.44642962,  0.66155862, -0.64747158, ...,  0.        ,\n",
       "         0.        ,  0.        ],\n",
       "       [-0.98352869,  0.10278535, -1.4086062 , ...,  0.        ,\n",
       "         0.        ,  0.        ],\n",
       "       [ 0.93009199,  0.172632  ,  0.24798091, ...,  0.        ,\n",
       "         0.        ,  0.        ]])"
      ]
     },
     "execution_count": 10,
     "metadata": {},
     "output_type": "execute_result"
    }
   ],
   "source": [
    "preprocessor.fit_transform(train[features_pipeline])"
   ]
  },
  {
   "cell_type": "code",
   "execution_count": 11,
   "metadata": {
    "execution": {
     "iopub.execute_input": "2021-03-21T18:04:06.444373Z",
     "iopub.status.busy": "2021-03-21T18:04:06.443696Z",
     "iopub.status.idle": "2021-03-21T18:04:06.446971Z",
     "shell.execute_reply": "2021-03-21T18:04:06.446398Z"
    },
    "papermill": {
     "duration": 0.029499,
     "end_time": "2021-03-21T18:04:06.447121",
     "exception": false,
     "start_time": "2021-03-21T18:04:06.417622",
     "status": "completed"
    },
    "tags": []
   },
   "outputs": [],
   "source": [
    "X = train[features_pipeline]\n",
    "y = train[target]"
   ]
  },
  {
   "cell_type": "code",
   "execution_count": 12,
   "metadata": {
    "execution": {
     "iopub.execute_input": "2021-03-21T18:04:06.491824Z",
     "iopub.status.busy": "2021-03-21T18:04:06.491142Z",
     "iopub.status.idle": "2021-03-21T18:04:06.504650Z",
     "shell.execute_reply": "2021-03-21T18:04:06.503980Z"
    },
    "papermill": {
     "duration": 0.038457,
     "end_time": "2021-03-21T18:04:06.504815",
     "exception": false,
     "start_time": "2021-03-21T18:04:06.466358",
     "status": "completed"
    },
    "tags": []
   },
   "outputs": [
    {
     "data": {
      "text/plain": [
       "((30341, 9), (10114, 9), (30341,), (10114,))"
      ]
     },
     "execution_count": 12,
     "metadata": {},
     "output_type": "execute_result"
    }
   ],
   "source": [
    "# train-test split\n",
    "\n",
    "X_train, X_test, y_train, y_test = train_test_split(X, y, test_size=0.25, random_state=42)\n",
    "X_train.shape, X_test.shape, y_train.shape, y_test.shape"
   ]
  },
  {
   "cell_type": "code",
   "execution_count": 13,
   "metadata": {
    "execution": {
     "iopub.execute_input": "2021-03-21T18:04:06.553671Z",
     "iopub.status.busy": "2021-03-21T18:04:06.552591Z",
     "iopub.status.idle": "2021-03-21T18:04:06.556043Z",
     "shell.execute_reply": "2021-03-21T18:04:06.555457Z"
    },
    "papermill": {
     "duration": 0.031683,
     "end_time": "2021-03-21T18:04:06.556189",
     "exception": false,
     "start_time": "2021-03-21T18:04:06.524506",
     "status": "completed"
    },
    "tags": []
   },
   "outputs": [],
   "source": [
    "# creating pipeline for different models\n",
    "\n",
    "pipeline_rf = Pipeline(steps=[('preprocessor', preprocessor),\n",
    "                       ('rf_regressor', RandomForestRegressor())]) \n",
    "\n",
    "pipeline_lr = Pipeline(steps=[('preprocessor', preprocessor),\n",
    "                     (\"lr_regressor\",LinearRegression())])\n",
    "\n",
    "pipeline_dt = Pipeline(steps=[('preprocessor', preprocessor),\n",
    "                     (\"dt_regressor\",DecisionTreeRegressor())])\n",
    "\n",
    "pipeline_kn = Pipeline(steps=[('preprocessor', preprocessor),\n",
    "                     (\"kn_regressor\",KNeighborsRegressor())])\n",
    "\n",
    "pipeline_xgb = Pipeline(steps=[('preprocessor', preprocessor),\n",
    "                     (\"xgb_regressor\",XGBRegressor())])\n",
    "\n",
    "pipeline_lgbm = Pipeline(steps=[('preprocessor', preprocessor),\n",
    "                     (\"lgbm_regressor\",LGBMRegressor())])\n",
    "\n",
    "pipeline_extratr = Pipeline(steps=[('preprocessor', preprocessor),\n",
    "                     (\"extratr_regressor\",ExtraTreesRegressor())])"
   ]
  },
  {
   "cell_type": "code",
   "execution_count": 14,
   "metadata": {
    "execution": {
     "iopub.execute_input": "2021-03-21T18:04:06.602066Z",
     "iopub.status.busy": "2021-03-21T18:04:06.601283Z",
     "iopub.status.idle": "2021-03-21T18:04:06.604501Z",
     "shell.execute_reply": "2021-03-21T18:04:06.605005Z"
    },
    "papermill": {
     "duration": 0.029319,
     "end_time": "2021-03-21T18:04:06.605213",
     "exception": false,
     "start_time": "2021-03-21T18:04:06.575894",
     "status": "completed"
    },
    "tags": []
   },
   "outputs": [],
   "source": [
    "# list of all pipelines\n",
    "pipelines = [pipeline_rf, pipeline_lr, pipeline_dt, pipeline_kn, pipeline_xgb, pipeline_lgbm, pipeline_extratr]\n",
    "\n",
    "# Dictionary of pipelines and model types for ease of reference\n",
    "pipe_dict = {0: \"RandomForest\", \n",
    "             1: \"LinearRegression\", \n",
    "             2: \"DecissionsTree\",\n",
    "             3: \"KNeighbors\", \n",
    "             4: \"XGBRegressor\",\n",
    "             5: \"LGBMRegressor\",\n",
    "             6: \"ExtraTreeRegressor\"}"
   ]
  },
  {
   "cell_type": "code",
   "execution_count": 15,
   "metadata": {
    "execution": {
     "iopub.execute_input": "2021-03-21T18:04:06.655694Z",
     "iopub.status.busy": "2021-03-21T18:04:06.654519Z",
     "iopub.status.idle": "2021-03-21T18:04:37.953955Z",
     "shell.execute_reply": "2021-03-21T18:04:37.954448Z"
    },
    "papermill": {
     "duration": 31.329546,
     "end_time": "2021-03-21T18:04:37.954650",
     "exception": false,
     "start_time": "2021-03-21T18:04:06.625104",
     "status": "completed"
    },
    "tags": []
   },
   "outputs": [],
   "source": [
    "# training all my models\n",
    "\n",
    "for pipe in pipelines:\n",
    "    pipe.fit(X_train, y_train)"
   ]
  },
  {
   "cell_type": "code",
   "execution_count": 16,
   "metadata": {
    "execution": {
     "iopub.execute_input": "2021-03-21T18:04:38.003787Z",
     "iopub.status.busy": "2021-03-21T18:04:38.002410Z",
     "iopub.status.idle": "2021-03-21T18:11:53.908202Z",
     "shell.execute_reply": "2021-03-21T18:11:53.908706Z"
    },
    "papermill": {
     "duration": 435.934005,
     "end_time": "2021-03-21T18:11:53.908907",
     "exception": false,
     "start_time": "2021-03-21T18:04:37.974902",
     "status": "completed"
    },
    "tags": []
   },
   "outputs": [
    {
     "name": "stdout",
     "output_type": "stream",
     "text": [
      "RandomForest: -554.710583 \n",
      "LinearRegression: -1160.367740 \n",
      "DecissionsTree: -753.080653 \n",
      "KNeighbors: -794.101844 \n",
      "XGBRegressor: -552.435314 \n",
      "LGBMRegressor: -545.288553 \n",
      "ExtraTreeRegressor: -547.866894 \n"
     ]
    }
   ],
   "source": [
    "# making cross validation for all my models\n",
    "\n",
    "cv_results = []\n",
    "\n",
    "for i, model in enumerate(pipelines):\n",
    "    cv_score = cross_val_score(model, X, y, scoring=\"neg_root_mean_squared_error\", cv=10)\n",
    "    cv_results.append(cv_score)\n",
    "    print(\"%s: %f \" % (pipe_dict[i], cv_score.mean()))"
   ]
  },
  {
   "cell_type": "markdown",
   "metadata": {
    "papermill": {
     "duration": 0.022686,
     "end_time": "2021-03-21T18:11:53.954666",
     "exception": false,
     "start_time": "2021-03-21T18:11:53.931980",
     "status": "completed"
    },
    "tags": []
   },
   "source": [
    "We are going to work with LGMBRegressor which appears to be the best model."
   ]
  },
  {
   "cell_type": "code",
   "execution_count": 17,
   "metadata": {
    "execution": {
     "iopub.execute_input": "2021-03-21T18:11:54.004211Z",
     "iopub.status.busy": "2021-03-21T18:11:54.003224Z",
     "iopub.status.idle": "2021-03-21T18:11:54.911866Z",
     "shell.execute_reply": "2021-03-21T18:11:54.912469Z"
    },
    "papermill": {
     "duration": 0.935675,
     "end_time": "2021-03-21T18:11:54.912670",
     "exception": false,
     "start_time": "2021-03-21T18:11:53.976995",
     "status": "completed"
    },
    "tags": []
   },
   "outputs": [
    {
     "data": {
      "text/plain": [
       "550.9320305483186"
      ]
     },
     "execution_count": 17,
     "metadata": {},
     "output_type": "execute_result"
    }
   ],
   "source": [
    "lgmb = Pipeline(steps=[('preprocessor', preprocessor),\n",
    "                     (\"lgbm_regressor\",LGBMRegressor(learning_rate=0.1, max_depth=8, n_estimators=500, num_leaves=21))])\n",
    "model_lgmb = lgmb.fit(X_train, y_train)\n",
    "y_pred_lgmb = lgmb.predict(X_test)\n",
    "mean_squared_error(y_test, y_pred_lgmb)**0.5"
   ]
  },
  {
   "cell_type": "code",
   "execution_count": 18,
   "metadata": {
    "execution": {
     "iopub.execute_input": "2021-03-21T18:11:54.972163Z",
     "iopub.status.busy": "2021-03-21T18:11:54.971476Z",
     "iopub.status.idle": "2021-03-21T18:12:03.267553Z",
     "shell.execute_reply": "2021-03-21T18:12:03.268120Z"
    },
    "papermill": {
     "duration": 8.330385,
     "end_time": "2021-03-21T18:12:03.268341",
     "exception": false,
     "start_time": "2021-03-21T18:11:54.937956",
     "status": "completed"
    },
    "tags": []
   },
   "outputs": [
    {
     "data": {
      "text/plain": [
       "537.5983930391792"
      ]
     },
     "execution_count": 18,
     "metadata": {},
     "output_type": "execute_result"
    }
   ],
   "source": [
    "xgb = Pipeline(steps=[('preprocessor', preprocessor),\n",
    "                     (\"xgb_regressor\",XGBRegressor(base_score=0.6,\n",
    "                                                   learning_rate=0.06,\n",
    "                                                   max_depth= 8,\n",
    "                                                   n_estimators=300,\n",
    "                                                   booster = 'gbtree',\n",
    "                                                   n_jobs = -1,\n",
    "                                                   gamma=0.0,\n",
    "                                                   min_child_weight=3,\n",
    "                                                   reg_alpha=0.1,\n",
    "                                                   subsample=0.9))])\n",
    "model_xgb = xgb.fit(X_train, y_train)\n",
    "y_pred_xgb = xgb.predict(X_test)\n",
    "mean_squared_error(y_test, y_pred_xgb)**0.5\n",
    "\n",
    "# best result by now"
   ]
  },
  {
   "cell_type": "code",
   "execution_count": 19,
   "metadata": {
    "execution": {
     "iopub.execute_input": "2021-03-21T18:12:03.327624Z",
     "iopub.status.busy": "2021-03-21T18:12:03.326860Z",
     "iopub.status.idle": "2021-03-21T18:12:10.322194Z",
     "shell.execute_reply": "2021-03-21T18:12:10.321608Z"
    },
    "papermill": {
     "duration": 7.028861,
     "end_time": "2021-03-21T18:12:10.322345",
     "exception": false,
     "start_time": "2021-03-21T18:12:03.293484",
     "status": "completed"
    },
    "tags": []
   },
   "outputs": [
    {
     "data": {
      "text/plain": [
       "541.2199737197308"
      ]
     },
     "execution_count": 19,
     "metadata": {},
     "output_type": "execute_result"
    }
   ],
   "source": [
    "extratr = pipeline_extratr = Pipeline(steps=[('preprocessor', preprocessor),\n",
    "                     (\"extratr_regressor\",ExtraTreesRegressor(bootstrap=False, \n",
    "                                                              max_features=0.8, \n",
    "                                                              min_samples_leaf=1, \n",
    "                                                              min_samples_split=16, \n",
    "                                                              n_estimators=100))])\n",
    "model_extratr = extratr.fit(X_train, y_train)\n",
    "y_pred_extratr = extratr.predict(X_test)\n",
    "mean_squared_error(y_test, y_pred_extratr)**0.5"
   ]
  },
  {
   "cell_type": "code",
   "execution_count": 20,
   "metadata": {
    "execution": {
     "iopub.execute_input": "2021-03-21T18:12:10.376761Z",
     "iopub.status.busy": "2021-03-21T18:12:10.375862Z",
     "iopub.status.idle": "2021-03-21T18:12:10.378564Z",
     "shell.execute_reply": "2021-03-21T18:12:10.377961Z"
    },
    "papermill": {
     "duration": 0.032983,
     "end_time": "2021-03-21T18:12:10.378705",
     "exception": false,
     "start_time": "2021-03-21T18:12:10.345722",
     "status": "completed"
    },
    "tags": []
   },
   "outputs": [],
   "source": [
    "# using grid search to look for the best hyperparams.\n",
    "\n",
    "ptmodel = Pipeline(steps=[('preprocessor', preprocessor),\n",
    "                     (\"lgbm_regressor\",LGBMRegressor())])\n",
    "params = {\n",
    "    'regressor__max_depth': [2, 4, 8, 16],\n",
    "    'regressor__n_estimators': [64, 128, 256, 512],\n",
    "    'regressor__learning_rate': [0.1, 0.01, 0.001],\n",
    "    'preprocessor__numerical_preprocessor__imputer__strategy': ['mean', 'median']\n",
    "}\n",
    "\n",
    "gridsearch = RandomizedSearchCV(ptmodel,\n",
    "                                params,\n",
    "                               cv=5,\n",
    "                               verbose=10,\n",
    "                               scoring='neg_root_mean_squared_error',\n",
    "                               n_jobs=-1,\n",
    "                               n_iter=20)"
   ]
  },
  {
   "cell_type": "code",
   "execution_count": 21,
   "metadata": {
    "execution": {
     "iopub.execute_input": "2021-03-21T18:12:10.432668Z",
     "iopub.status.busy": "2021-03-21T18:12:10.431963Z",
     "iopub.status.idle": "2021-03-21T18:12:12.704931Z",
     "shell.execute_reply": "2021-03-21T18:12:12.705885Z"
    },
    "papermill": {
     "duration": 2.303844,
     "end_time": "2021-03-21T18:12:12.706071",
     "exception": false,
     "start_time": "2021-03-21T18:12:10.402227",
     "status": "completed"
    },
    "tags": []
   },
   "outputs": [
    {
     "name": "stdout",
     "output_type": "stream",
     "text": [
      "Fitting 5 folds for each of 20 candidates, totalling 100 fits\n"
     ]
    },
    {
     "ename": "ValueError",
     "evalue": "Invalid parameter regressor for estimator Pipeline(steps=[('preprocessor',\n                 ColumnTransformer(transformers=[('numerical_preprocessor',\n                                                  Pipeline(steps=[('imputer',\n                                                                   SimpleImputer()),\n                                                                  ('scaler',\n                                                                   StandardScaler())]),\n                                                  ['carat', 'depth', 'table',\n                                                   'x', 'y', 'z']),\n                                                 ('categorical_preprocessor',\n                                                  Pipeline(steps=[('imputer',\n                                                                   SimpleImputer(fill_value='missing',\n                                                                                 strategy='constant')),\n                                                                  ('encoder',\n                                                                   OneHotEncoder(handle_unknown='ignore'))]),\n                                                  ['cut', 'color',\n                                                   'clarity'])])),\n                ('lgbm_regressor', LGBMRegressor())]). Check the list of available parameters with `estimator.get_params().keys()`.",
     "output_type": "error",
     "traceback": [
      "\u001b[0;31m---------------------------------------------------------------------------\u001b[0m",
      "\u001b[0;31m_RemoteTraceback\u001b[0m                          Traceback (most recent call last)",
      "\u001b[0;31m_RemoteTraceback\u001b[0m: \n\"\"\"\nTraceback (most recent call last):\n  File \"/opt/conda/lib/python3.7/site-packages/joblib/externals/loky/process_executor.py\", line 431, in _process_worker\n    r = call_item()\n  File \"/opt/conda/lib/python3.7/site-packages/joblib/externals/loky/process_executor.py\", line 285, in __call__\n    return self.fn(*self.args, **self.kwargs)\n  File \"/opt/conda/lib/python3.7/site-packages/joblib/_parallel_backends.py\", line 595, in __call__\n    return self.func(*args, **kwargs)\n  File \"/opt/conda/lib/python3.7/site-packages/joblib/parallel.py\", line 263, in __call__\n    for func, args, kwargs in self.items]\n  File \"/opt/conda/lib/python3.7/site-packages/joblib/parallel.py\", line 263, in <listcomp>\n    for func, args, kwargs in self.items]\n  File \"/opt/conda/lib/python3.7/site-packages/sklearn/utils/fixes.py\", line 222, in __call__\n    return self.function(*args, **kwargs)\n  File \"/opt/conda/lib/python3.7/site-packages/sklearn/model_selection/_validation.py\", line 581, in _fit_and_score\n    estimator = estimator.set_params(**cloned_parameters)\n  File \"/opt/conda/lib/python3.7/site-packages/sklearn/pipeline.py\", line 150, in set_params\n    self._set_params('steps', **kwargs)\n  File \"/opt/conda/lib/python3.7/site-packages/sklearn/utils/metaestimators.py\", line 54, in _set_params\n    super().set_params(**params)\n  File \"/opt/conda/lib/python3.7/site-packages/sklearn/base.py\", line 233, in set_params\n    (key, self))\nValueError: Invalid parameter regressor for estimator Pipeline(steps=[('preprocessor',\n                 ColumnTransformer(transformers=[('numerical_preprocessor',\n                                                  Pipeline(steps=[('imputer',\n                                                                   SimpleImputer()),\n                                                                  ('scaler',\n                                                                   StandardScaler())]),\n                                                  ['carat', 'depth', 'table',\n                                                   'x', 'y', 'z']),\n                                                 ('categorical_preprocessor',\n                                                  Pipeline(steps=[('imputer',\n                                                                   SimpleImputer(fill_value='missing',\n                                                                                 strategy='constant')),\n                                                                  ('encoder',\n                                                                   OneHotEncoder(handle_unknown='ignore'))]),\n                                                  ['cut', 'color',\n                                                   'clarity'])])),\n                ('lgbm_regressor', LGBMRegressor())]). Check the list of available parameters with `estimator.get_params().keys()`.\n\"\"\"",
      "\nThe above exception was the direct cause of the following exception:\n",
      "\u001b[0;31mValueError\u001b[0m                                Traceback (most recent call last)",
      "\u001b[0;32m<ipython-input-21-dec778a1359e>\u001b[0m in \u001b[0;36m<module>\u001b[0;34m\u001b[0m\n\u001b[0;32m----> 1\u001b[0;31m \u001b[0mgridsearch\u001b[0m\u001b[0;34m.\u001b[0m\u001b[0mfit\u001b[0m\u001b[0;34m(\u001b[0m\u001b[0mX\u001b[0m\u001b[0;34m,\u001b[0m \u001b[0my\u001b[0m\u001b[0;34m)\u001b[0m\u001b[0;34m\u001b[0m\u001b[0;34m\u001b[0m\u001b[0m\n\u001b[0m",
      "\u001b[0;32m/opt/conda/lib/python3.7/site-packages/sklearn/utils/validation.py\u001b[0m in \u001b[0;36minner_f\u001b[0;34m(*args, **kwargs)\u001b[0m\n\u001b[1;32m     61\u001b[0m             \u001b[0mextra_args\u001b[0m \u001b[0;34m=\u001b[0m \u001b[0mlen\u001b[0m\u001b[0;34m(\u001b[0m\u001b[0margs\u001b[0m\u001b[0;34m)\u001b[0m \u001b[0;34m-\u001b[0m \u001b[0mlen\u001b[0m\u001b[0;34m(\u001b[0m\u001b[0mall_args\u001b[0m\u001b[0;34m)\u001b[0m\u001b[0;34m\u001b[0m\u001b[0;34m\u001b[0m\u001b[0m\n\u001b[1;32m     62\u001b[0m             \u001b[0;32mif\u001b[0m \u001b[0mextra_args\u001b[0m \u001b[0;34m<=\u001b[0m \u001b[0;36m0\u001b[0m\u001b[0;34m:\u001b[0m\u001b[0;34m\u001b[0m\u001b[0;34m\u001b[0m\u001b[0m\n\u001b[0;32m---> 63\u001b[0;31m                 \u001b[0;32mreturn\u001b[0m \u001b[0mf\u001b[0m\u001b[0;34m(\u001b[0m\u001b[0;34m*\u001b[0m\u001b[0margs\u001b[0m\u001b[0;34m,\u001b[0m \u001b[0;34m**\u001b[0m\u001b[0mkwargs\u001b[0m\u001b[0;34m)\u001b[0m\u001b[0;34m\u001b[0m\u001b[0;34m\u001b[0m\u001b[0m\n\u001b[0m\u001b[1;32m     64\u001b[0m \u001b[0;34m\u001b[0m\u001b[0m\n\u001b[1;32m     65\u001b[0m             \u001b[0;31m# extra_args > 0\u001b[0m\u001b[0;34m\u001b[0m\u001b[0;34m\u001b[0m\u001b[0;34m\u001b[0m\u001b[0m\n",
      "\u001b[0;32m/opt/conda/lib/python3.7/site-packages/sklearn/model_selection/_search.py\u001b[0m in \u001b[0;36mfit\u001b[0;34m(self, X, y, groups, **fit_params)\u001b[0m\n\u001b[1;32m    839\u001b[0m                 \u001b[0;32mreturn\u001b[0m \u001b[0mresults\u001b[0m\u001b[0;34m\u001b[0m\u001b[0;34m\u001b[0m\u001b[0m\n\u001b[1;32m    840\u001b[0m \u001b[0;34m\u001b[0m\u001b[0m\n\u001b[0;32m--> 841\u001b[0;31m             \u001b[0mself\u001b[0m\u001b[0;34m.\u001b[0m\u001b[0m_run_search\u001b[0m\u001b[0;34m(\u001b[0m\u001b[0mevaluate_candidates\u001b[0m\u001b[0;34m)\u001b[0m\u001b[0;34m\u001b[0m\u001b[0;34m\u001b[0m\u001b[0m\n\u001b[0m\u001b[1;32m    842\u001b[0m \u001b[0;34m\u001b[0m\u001b[0m\n\u001b[1;32m    843\u001b[0m             \u001b[0;31m# multimetric is determined here because in the case of a callable\u001b[0m\u001b[0;34m\u001b[0m\u001b[0;34m\u001b[0m\u001b[0;34m\u001b[0m\u001b[0m\n",
      "\u001b[0;32m/opt/conda/lib/python3.7/site-packages/sklearn/model_selection/_search.py\u001b[0m in \u001b[0;36m_run_search\u001b[0;34m(self, evaluate_candidates)\u001b[0m\n\u001b[1;32m   1619\u001b[0m         evaluate_candidates(ParameterSampler(\n\u001b[1;32m   1620\u001b[0m             \u001b[0mself\u001b[0m\u001b[0;34m.\u001b[0m\u001b[0mparam_distributions\u001b[0m\u001b[0;34m,\u001b[0m \u001b[0mself\u001b[0m\u001b[0;34m.\u001b[0m\u001b[0mn_iter\u001b[0m\u001b[0;34m,\u001b[0m\u001b[0;34m\u001b[0m\u001b[0;34m\u001b[0m\u001b[0m\n\u001b[0;32m-> 1621\u001b[0;31m             random_state=self.random_state))\n\u001b[0m",
      "\u001b[0;32m/opt/conda/lib/python3.7/site-packages/sklearn/model_selection/_search.py\u001b[0m in \u001b[0;36mevaluate_candidates\u001b[0;34m(candidate_params, cv, more_results)\u001b[0m\n\u001b[1;32m    807\u001b[0m                                    (split_idx, (train, test)) in product(\n\u001b[1;32m    808\u001b[0m                                    \u001b[0menumerate\u001b[0m\u001b[0;34m(\u001b[0m\u001b[0mcandidate_params\u001b[0m\u001b[0;34m)\u001b[0m\u001b[0;34m,\u001b[0m\u001b[0;34m\u001b[0m\u001b[0;34m\u001b[0m\u001b[0m\n\u001b[0;32m--> 809\u001b[0;31m                                    enumerate(cv.split(X, y, groups))))\n\u001b[0m\u001b[1;32m    810\u001b[0m \u001b[0;34m\u001b[0m\u001b[0m\n\u001b[1;32m    811\u001b[0m                 \u001b[0;32mif\u001b[0m \u001b[0mlen\u001b[0m\u001b[0;34m(\u001b[0m\u001b[0mout\u001b[0m\u001b[0;34m)\u001b[0m \u001b[0;34m<\u001b[0m \u001b[0;36m1\u001b[0m\u001b[0;34m:\u001b[0m\u001b[0;34m\u001b[0m\u001b[0;34m\u001b[0m\u001b[0m\n",
      "\u001b[0;32m/opt/conda/lib/python3.7/site-packages/joblib/parallel.py\u001b[0m in \u001b[0;36m__call__\u001b[0;34m(self, iterable)\u001b[0m\n\u001b[1;32m   1052\u001b[0m \u001b[0;34m\u001b[0m\u001b[0m\n\u001b[1;32m   1053\u001b[0m             \u001b[0;32mwith\u001b[0m \u001b[0mself\u001b[0m\u001b[0;34m.\u001b[0m\u001b[0m_backend\u001b[0m\u001b[0;34m.\u001b[0m\u001b[0mretrieval_context\u001b[0m\u001b[0;34m(\u001b[0m\u001b[0;34m)\u001b[0m\u001b[0;34m:\u001b[0m\u001b[0;34m\u001b[0m\u001b[0;34m\u001b[0m\u001b[0m\n\u001b[0;32m-> 1054\u001b[0;31m                 \u001b[0mself\u001b[0m\u001b[0;34m.\u001b[0m\u001b[0mretrieve\u001b[0m\u001b[0;34m(\u001b[0m\u001b[0;34m)\u001b[0m\u001b[0;34m\u001b[0m\u001b[0;34m\u001b[0m\u001b[0m\n\u001b[0m\u001b[1;32m   1055\u001b[0m             \u001b[0;31m# Make sure that we get a last message telling us we are done\u001b[0m\u001b[0;34m\u001b[0m\u001b[0;34m\u001b[0m\u001b[0;34m\u001b[0m\u001b[0m\n\u001b[1;32m   1056\u001b[0m             \u001b[0melapsed_time\u001b[0m \u001b[0;34m=\u001b[0m \u001b[0mtime\u001b[0m\u001b[0;34m.\u001b[0m\u001b[0mtime\u001b[0m\u001b[0;34m(\u001b[0m\u001b[0;34m)\u001b[0m \u001b[0;34m-\u001b[0m \u001b[0mself\u001b[0m\u001b[0;34m.\u001b[0m\u001b[0m_start_time\u001b[0m\u001b[0;34m\u001b[0m\u001b[0;34m\u001b[0m\u001b[0m\n",
      "\u001b[0;32m/opt/conda/lib/python3.7/site-packages/joblib/parallel.py\u001b[0m in \u001b[0;36mretrieve\u001b[0;34m(self)\u001b[0m\n\u001b[1;32m    931\u001b[0m             \u001b[0;32mtry\u001b[0m\u001b[0;34m:\u001b[0m\u001b[0;34m\u001b[0m\u001b[0;34m\u001b[0m\u001b[0m\n\u001b[1;32m    932\u001b[0m                 \u001b[0;32mif\u001b[0m \u001b[0mgetattr\u001b[0m\u001b[0;34m(\u001b[0m\u001b[0mself\u001b[0m\u001b[0;34m.\u001b[0m\u001b[0m_backend\u001b[0m\u001b[0;34m,\u001b[0m \u001b[0;34m'supports_timeout'\u001b[0m\u001b[0;34m,\u001b[0m \u001b[0;32mFalse\u001b[0m\u001b[0;34m)\u001b[0m\u001b[0;34m:\u001b[0m\u001b[0;34m\u001b[0m\u001b[0;34m\u001b[0m\u001b[0m\n\u001b[0;32m--> 933\u001b[0;31m                     \u001b[0mself\u001b[0m\u001b[0;34m.\u001b[0m\u001b[0m_output\u001b[0m\u001b[0;34m.\u001b[0m\u001b[0mextend\u001b[0m\u001b[0;34m(\u001b[0m\u001b[0mjob\u001b[0m\u001b[0;34m.\u001b[0m\u001b[0mget\u001b[0m\u001b[0;34m(\u001b[0m\u001b[0mtimeout\u001b[0m\u001b[0;34m=\u001b[0m\u001b[0mself\u001b[0m\u001b[0;34m.\u001b[0m\u001b[0mtimeout\u001b[0m\u001b[0;34m)\u001b[0m\u001b[0;34m)\u001b[0m\u001b[0;34m\u001b[0m\u001b[0;34m\u001b[0m\u001b[0m\n\u001b[0m\u001b[1;32m    934\u001b[0m                 \u001b[0;32melse\u001b[0m\u001b[0;34m:\u001b[0m\u001b[0;34m\u001b[0m\u001b[0;34m\u001b[0m\u001b[0m\n\u001b[1;32m    935\u001b[0m                     \u001b[0mself\u001b[0m\u001b[0;34m.\u001b[0m\u001b[0m_output\u001b[0m\u001b[0;34m.\u001b[0m\u001b[0mextend\u001b[0m\u001b[0;34m(\u001b[0m\u001b[0mjob\u001b[0m\u001b[0;34m.\u001b[0m\u001b[0mget\u001b[0m\u001b[0;34m(\u001b[0m\u001b[0;34m)\u001b[0m\u001b[0;34m)\u001b[0m\u001b[0;34m\u001b[0m\u001b[0;34m\u001b[0m\u001b[0m\n",
      "\u001b[0;32m/opt/conda/lib/python3.7/site-packages/joblib/_parallel_backends.py\u001b[0m in \u001b[0;36mwrap_future_result\u001b[0;34m(future, timeout)\u001b[0m\n\u001b[1;32m    540\u001b[0m         AsyncResults.get from multiprocessing.\"\"\"\n\u001b[1;32m    541\u001b[0m         \u001b[0;32mtry\u001b[0m\u001b[0;34m:\u001b[0m\u001b[0;34m\u001b[0m\u001b[0;34m\u001b[0m\u001b[0m\n\u001b[0;32m--> 542\u001b[0;31m             \u001b[0;32mreturn\u001b[0m \u001b[0mfuture\u001b[0m\u001b[0;34m.\u001b[0m\u001b[0mresult\u001b[0m\u001b[0;34m(\u001b[0m\u001b[0mtimeout\u001b[0m\u001b[0;34m=\u001b[0m\u001b[0mtimeout\u001b[0m\u001b[0;34m)\u001b[0m\u001b[0;34m\u001b[0m\u001b[0;34m\u001b[0m\u001b[0m\n\u001b[0m\u001b[1;32m    543\u001b[0m         \u001b[0;32mexcept\u001b[0m \u001b[0mCfTimeoutError\u001b[0m \u001b[0;32mas\u001b[0m \u001b[0me\u001b[0m\u001b[0;34m:\u001b[0m\u001b[0;34m\u001b[0m\u001b[0;34m\u001b[0m\u001b[0m\n\u001b[1;32m    544\u001b[0m             \u001b[0;32mraise\u001b[0m \u001b[0mTimeoutError\u001b[0m \u001b[0;32mfrom\u001b[0m \u001b[0me\u001b[0m\u001b[0;34m\u001b[0m\u001b[0;34m\u001b[0m\u001b[0m\n",
      "\u001b[0;32m/opt/conda/lib/python3.7/concurrent/futures/_base.py\u001b[0m in \u001b[0;36mresult\u001b[0;34m(self, timeout)\u001b[0m\n\u001b[1;32m    433\u001b[0m                 \u001b[0;32mraise\u001b[0m \u001b[0mCancelledError\u001b[0m\u001b[0;34m(\u001b[0m\u001b[0;34m)\u001b[0m\u001b[0;34m\u001b[0m\u001b[0;34m\u001b[0m\u001b[0m\n\u001b[1;32m    434\u001b[0m             \u001b[0;32melif\u001b[0m \u001b[0mself\u001b[0m\u001b[0;34m.\u001b[0m\u001b[0m_state\u001b[0m \u001b[0;34m==\u001b[0m \u001b[0mFINISHED\u001b[0m\u001b[0;34m:\u001b[0m\u001b[0;34m\u001b[0m\u001b[0;34m\u001b[0m\u001b[0m\n\u001b[0;32m--> 435\u001b[0;31m                 \u001b[0;32mreturn\u001b[0m \u001b[0mself\u001b[0m\u001b[0;34m.\u001b[0m\u001b[0m__get_result\u001b[0m\u001b[0;34m(\u001b[0m\u001b[0;34m)\u001b[0m\u001b[0;34m\u001b[0m\u001b[0;34m\u001b[0m\u001b[0m\n\u001b[0m\u001b[1;32m    436\u001b[0m             \u001b[0;32melse\u001b[0m\u001b[0;34m:\u001b[0m\u001b[0;34m\u001b[0m\u001b[0;34m\u001b[0m\u001b[0m\n\u001b[1;32m    437\u001b[0m                 \u001b[0;32mraise\u001b[0m \u001b[0mTimeoutError\u001b[0m\u001b[0;34m(\u001b[0m\u001b[0;34m)\u001b[0m\u001b[0;34m\u001b[0m\u001b[0;34m\u001b[0m\u001b[0m\n",
      "\u001b[0;32m/opt/conda/lib/python3.7/concurrent/futures/_base.py\u001b[0m in \u001b[0;36m__get_result\u001b[0;34m(self)\u001b[0m\n\u001b[1;32m    382\u001b[0m     \u001b[0;32mdef\u001b[0m \u001b[0m__get_result\u001b[0m\u001b[0;34m(\u001b[0m\u001b[0mself\u001b[0m\u001b[0;34m)\u001b[0m\u001b[0;34m:\u001b[0m\u001b[0;34m\u001b[0m\u001b[0;34m\u001b[0m\u001b[0m\n\u001b[1;32m    383\u001b[0m         \u001b[0;32mif\u001b[0m \u001b[0mself\u001b[0m\u001b[0;34m.\u001b[0m\u001b[0m_exception\u001b[0m\u001b[0;34m:\u001b[0m\u001b[0;34m\u001b[0m\u001b[0;34m\u001b[0m\u001b[0m\n\u001b[0;32m--> 384\u001b[0;31m             \u001b[0;32mraise\u001b[0m \u001b[0mself\u001b[0m\u001b[0;34m.\u001b[0m\u001b[0m_exception\u001b[0m\u001b[0;34m\u001b[0m\u001b[0;34m\u001b[0m\u001b[0m\n\u001b[0m\u001b[1;32m    385\u001b[0m         \u001b[0;32melse\u001b[0m\u001b[0;34m:\u001b[0m\u001b[0;34m\u001b[0m\u001b[0;34m\u001b[0m\u001b[0m\n\u001b[1;32m    386\u001b[0m             \u001b[0;32mreturn\u001b[0m \u001b[0mself\u001b[0m\u001b[0;34m.\u001b[0m\u001b[0m_result\u001b[0m\u001b[0;34m\u001b[0m\u001b[0;34m\u001b[0m\u001b[0m\n",
      "\u001b[0;31mValueError\u001b[0m: Invalid parameter regressor for estimator Pipeline(steps=[('preprocessor',\n                 ColumnTransformer(transformers=[('numerical_preprocessor',\n                                                  Pipeline(steps=[('imputer',\n                                                                   SimpleImputer()),\n                                                                  ('scaler',\n                                                                   StandardScaler())]),\n                                                  ['carat', 'depth', 'table',\n                                                   'x', 'y', 'z']),\n                                                 ('categorical_preprocessor',\n                                                  Pipeline(steps=[('imputer',\n                                                                   SimpleImputer(fill_value='missing',\n                                                                                 strategy='constant')),\n                                                                  ('encoder',\n                                                                   OneHotEncoder(handle_unknown='ignore'))]),\n                                                  ['cut', 'color',\n                                                   'clarity'])])),\n                ('lgbm_regressor', LGBMRegressor())]). Check the list of available parameters with `estimator.get_params().keys()`."
     ]
    }
   ],
   "source": [
    "gridsearch.fit(X, y)"
   ]
  },
  {
   "cell_type": "code",
   "execution_count": 22,
   "metadata": {
    "execution": {
     "iopub.execute_input": "2021-03-21T18:12:12.758506Z",
     "iopub.status.busy": "2021-03-21T18:12:12.757854Z",
     "iopub.status.idle": "2021-03-21T18:12:12.780790Z",
     "shell.execute_reply": "2021-03-21T18:12:12.781453Z"
    },
    "papermill": {
     "duration": 0.050995,
     "end_time": "2021-03-21T18:12:12.781630",
     "exception": false,
     "start_time": "2021-03-21T18:12:12.730635",
     "status": "completed"
    },
    "tags": []
   },
   "outputs": [
    {
     "ename": "NotFittedError",
     "evalue": "This RandomizedSearchCV instance is not fitted yet. Call 'fit' with appropriate arguments before using this estimator.",
     "output_type": "error",
     "traceback": [
      "\u001b[0;31m---------------------------------------------------------------------------\u001b[0m",
      "\u001b[0;31mNotFittedError\u001b[0m                            Traceback (most recent call last)",
      "\u001b[0;32m<ipython-input-22-1bf927a8c2fb>\u001b[0m in \u001b[0;36m<module>\u001b[0;34m\u001b[0m\n\u001b[0;32m----> 1\u001b[0;31m \u001b[0mgridsearch\u001b[0m\u001b[0;34m.\u001b[0m\u001b[0mpredict\u001b[0m\u001b[0;34m(\u001b[0m\u001b[0mtest\u001b[0m\u001b[0;34m[\u001b[0m\u001b[0mfeatures_pipeline\u001b[0m\u001b[0;34m]\u001b[0m\u001b[0;34m)\u001b[0m\u001b[0;34m\u001b[0m\u001b[0;34m\u001b[0m\u001b[0m\n\u001b[0m",
      "\u001b[0;32m/opt/conda/lib/python3.7/site-packages/sklearn/utils/metaestimators.py\u001b[0m in \u001b[0;36m<lambda>\u001b[0;34m(*args, **kwargs)\u001b[0m\n\u001b[1;32m    118\u001b[0m \u001b[0;34m\u001b[0m\u001b[0m\n\u001b[1;32m    119\u001b[0m         \u001b[0;31m# lambda, but not partial, allows help() to work with update_wrapper\u001b[0m\u001b[0;34m\u001b[0m\u001b[0;34m\u001b[0m\u001b[0;34m\u001b[0m\u001b[0m\n\u001b[0;32m--> 120\u001b[0;31m         \u001b[0mout\u001b[0m \u001b[0;34m=\u001b[0m \u001b[0;32mlambda\u001b[0m \u001b[0;34m*\u001b[0m\u001b[0margs\u001b[0m\u001b[0;34m,\u001b[0m \u001b[0;34m**\u001b[0m\u001b[0mkwargs\u001b[0m\u001b[0;34m:\u001b[0m \u001b[0mself\u001b[0m\u001b[0;34m.\u001b[0m\u001b[0mfn\u001b[0m\u001b[0;34m(\u001b[0m\u001b[0mobj\u001b[0m\u001b[0;34m,\u001b[0m \u001b[0;34m*\u001b[0m\u001b[0margs\u001b[0m\u001b[0;34m,\u001b[0m \u001b[0;34m**\u001b[0m\u001b[0mkwargs\u001b[0m\u001b[0;34m)\u001b[0m\u001b[0;34m\u001b[0m\u001b[0;34m\u001b[0m\u001b[0m\n\u001b[0m\u001b[1;32m    121\u001b[0m         \u001b[0;31m# update the docstring of the returned function\u001b[0m\u001b[0;34m\u001b[0m\u001b[0;34m\u001b[0m\u001b[0;34m\u001b[0m\u001b[0m\n\u001b[1;32m    122\u001b[0m         \u001b[0mupdate_wrapper\u001b[0m\u001b[0;34m(\u001b[0m\u001b[0mout\u001b[0m\u001b[0;34m,\u001b[0m \u001b[0mself\u001b[0m\u001b[0;34m.\u001b[0m\u001b[0mfn\u001b[0m\u001b[0;34m)\u001b[0m\u001b[0;34m\u001b[0m\u001b[0;34m\u001b[0m\u001b[0m\n",
      "\u001b[0;32m/opt/conda/lib/python3.7/site-packages/sklearn/model_selection/_search.py\u001b[0m in \u001b[0;36mpredict\u001b[0;34m(self, X)\u001b[0m\n\u001b[1;32m    537\u001b[0m \u001b[0;34m\u001b[0m\u001b[0m\n\u001b[1;32m    538\u001b[0m         \"\"\"\n\u001b[0;32m--> 539\u001b[0;31m         \u001b[0mself\u001b[0m\u001b[0;34m.\u001b[0m\u001b[0m_check_is_fitted\u001b[0m\u001b[0;34m(\u001b[0m\u001b[0;34m'predict'\u001b[0m\u001b[0;34m)\u001b[0m\u001b[0;34m\u001b[0m\u001b[0;34m\u001b[0m\u001b[0m\n\u001b[0m\u001b[1;32m    540\u001b[0m         \u001b[0;32mreturn\u001b[0m \u001b[0mself\u001b[0m\u001b[0;34m.\u001b[0m\u001b[0mbest_estimator_\u001b[0m\u001b[0;34m.\u001b[0m\u001b[0mpredict\u001b[0m\u001b[0;34m(\u001b[0m\u001b[0mX\u001b[0m\u001b[0;34m)\u001b[0m\u001b[0;34m\u001b[0m\u001b[0;34m\u001b[0m\u001b[0m\n\u001b[1;32m    541\u001b[0m \u001b[0;34m\u001b[0m\u001b[0m\n",
      "\u001b[0;32m/opt/conda/lib/python3.7/site-packages/sklearn/model_selection/_search.py\u001b[0m in \u001b[0;36m_check_is_fitted\u001b[0;34m(self, method_name)\u001b[0m\n\u001b[1;32m    521\u001b[0m                                  % (type(self).__name__, method_name))\n\u001b[1;32m    522\u001b[0m         \u001b[0;32melse\u001b[0m\u001b[0;34m:\u001b[0m\u001b[0;34m\u001b[0m\u001b[0;34m\u001b[0m\u001b[0m\n\u001b[0;32m--> 523\u001b[0;31m             \u001b[0mcheck_is_fitted\u001b[0m\u001b[0;34m(\u001b[0m\u001b[0mself\u001b[0m\u001b[0;34m)\u001b[0m\u001b[0;34m\u001b[0m\u001b[0;34m\u001b[0m\u001b[0m\n\u001b[0m\u001b[1;32m    524\u001b[0m \u001b[0;34m\u001b[0m\u001b[0m\n\u001b[1;32m    525\u001b[0m     \u001b[0;34m@\u001b[0m\u001b[0mif_delegate_has_method\u001b[0m\u001b[0;34m(\u001b[0m\u001b[0mdelegate\u001b[0m\u001b[0;34m=\u001b[0m\u001b[0;34m(\u001b[0m\u001b[0;34m'best_estimator_'\u001b[0m\u001b[0;34m,\u001b[0m \u001b[0;34m'estimator'\u001b[0m\u001b[0;34m)\u001b[0m\u001b[0;34m)\u001b[0m\u001b[0;34m\u001b[0m\u001b[0;34m\u001b[0m\u001b[0m\n",
      "\u001b[0;32m/opt/conda/lib/python3.7/site-packages/sklearn/utils/validation.py\u001b[0m in \u001b[0;36minner_f\u001b[0;34m(*args, **kwargs)\u001b[0m\n\u001b[1;32m     61\u001b[0m             \u001b[0mextra_args\u001b[0m \u001b[0;34m=\u001b[0m \u001b[0mlen\u001b[0m\u001b[0;34m(\u001b[0m\u001b[0margs\u001b[0m\u001b[0;34m)\u001b[0m \u001b[0;34m-\u001b[0m \u001b[0mlen\u001b[0m\u001b[0;34m(\u001b[0m\u001b[0mall_args\u001b[0m\u001b[0;34m)\u001b[0m\u001b[0;34m\u001b[0m\u001b[0;34m\u001b[0m\u001b[0m\n\u001b[1;32m     62\u001b[0m             \u001b[0;32mif\u001b[0m \u001b[0mextra_args\u001b[0m \u001b[0;34m<=\u001b[0m \u001b[0;36m0\u001b[0m\u001b[0;34m:\u001b[0m\u001b[0;34m\u001b[0m\u001b[0;34m\u001b[0m\u001b[0m\n\u001b[0;32m---> 63\u001b[0;31m                 \u001b[0;32mreturn\u001b[0m \u001b[0mf\u001b[0m\u001b[0;34m(\u001b[0m\u001b[0;34m*\u001b[0m\u001b[0margs\u001b[0m\u001b[0;34m,\u001b[0m \u001b[0;34m**\u001b[0m\u001b[0mkwargs\u001b[0m\u001b[0;34m)\u001b[0m\u001b[0;34m\u001b[0m\u001b[0;34m\u001b[0m\u001b[0m\n\u001b[0m\u001b[1;32m     64\u001b[0m \u001b[0;34m\u001b[0m\u001b[0m\n\u001b[1;32m     65\u001b[0m             \u001b[0;31m# extra_args > 0\u001b[0m\u001b[0;34m\u001b[0m\u001b[0;34m\u001b[0m\u001b[0;34m\u001b[0m\u001b[0m\n",
      "\u001b[0;32m/opt/conda/lib/python3.7/site-packages/sklearn/utils/validation.py\u001b[0m in \u001b[0;36mcheck_is_fitted\u001b[0;34m(estimator, attributes, msg, all_or_any)\u001b[0m\n\u001b[1;32m   1039\u001b[0m \u001b[0;34m\u001b[0m\u001b[0m\n\u001b[1;32m   1040\u001b[0m     \u001b[0;32mif\u001b[0m \u001b[0;32mnot\u001b[0m \u001b[0mattrs\u001b[0m\u001b[0;34m:\u001b[0m\u001b[0;34m\u001b[0m\u001b[0;34m\u001b[0m\u001b[0m\n\u001b[0;32m-> 1041\u001b[0;31m         \u001b[0;32mraise\u001b[0m \u001b[0mNotFittedError\u001b[0m\u001b[0;34m(\u001b[0m\u001b[0mmsg\u001b[0m \u001b[0;34m%\u001b[0m \u001b[0;34m{\u001b[0m\u001b[0;34m'name'\u001b[0m\u001b[0;34m:\u001b[0m \u001b[0mtype\u001b[0m\u001b[0;34m(\u001b[0m\u001b[0mestimator\u001b[0m\u001b[0;34m)\u001b[0m\u001b[0;34m.\u001b[0m\u001b[0m__name__\u001b[0m\u001b[0;34m}\u001b[0m\u001b[0;34m)\u001b[0m\u001b[0;34m\u001b[0m\u001b[0;34m\u001b[0m\u001b[0m\n\u001b[0m\u001b[1;32m   1042\u001b[0m \u001b[0;34m\u001b[0m\u001b[0m\n\u001b[1;32m   1043\u001b[0m \u001b[0;34m\u001b[0m\u001b[0m\n",
      "\u001b[0;31mNotFittedError\u001b[0m: This RandomizedSearchCV instance is not fitted yet. Call 'fit' with appropriate arguments before using this estimator."
     ]
    }
   ],
   "source": [
    "gridsearch.predict(test[features_pipeline])"
   ]
  },
  {
   "cell_type": "code",
   "execution_count": 23,
   "metadata": {
    "execution": {
     "iopub.execute_input": "2021-03-21T18:12:12.835688Z",
     "iopub.status.busy": "2021-03-21T18:12:12.835071Z",
     "iopub.status.idle": "2021-03-21T18:12:50.932512Z",
     "shell.execute_reply": "2021-03-21T18:12:50.933046Z"
    },
    "papermill": {
     "duration": 38.126278,
     "end_time": "2021-03-21T18:12:50.933218",
     "exception": false,
     "start_time": "2021-03-21T18:12:12.806940",
     "status": "completed"
    },
    "tags": []
   },
   "outputs": [
    {
     "data": {
      "text/plain": [
       "533.3184730520621"
      ]
     },
     "execution_count": 23,
     "metadata": {},
     "output_type": "execute_result"
    }
   ],
   "source": [
    "# cross validation\n",
    "\n",
    "errors = cross_val_score(model_extratr, X, y, cv=10, scoring='neg_root_mean_squared_error', n_jobs=-1)\n",
    "np.mean(-errors)"
   ]
  },
  {
   "cell_type": "code",
   "execution_count": 24,
   "metadata": {
    "execution": {
     "iopub.execute_input": "2021-03-21T18:12:50.989077Z",
     "iopub.status.busy": "2021-03-21T18:12:50.988386Z",
     "iopub.status.idle": "2021-03-21T18:12:51.282356Z",
     "shell.execute_reply": "2021-03-21T18:12:51.282879Z"
    },
    "papermill": {
     "duration": 0.324287,
     "end_time": "2021-03-21T18:12:51.283073",
     "exception": false,
     "start_time": "2021-03-21T18:12:50.958786",
     "status": "completed"
    },
    "tags": []
   },
   "outputs": [],
   "source": [
    "y_submission = model_extratr.predict(test[features_pipeline])"
   ]
  },
  {
   "cell_type": "code",
   "execution_count": 25,
   "metadata": {
    "execution": {
     "iopub.execute_input": "2021-03-21T18:12:51.339418Z",
     "iopub.status.busy": "2021-03-21T18:12:51.338831Z",
     "iopub.status.idle": "2021-03-21T18:12:51.398242Z",
     "shell.execute_reply": "2021-03-21T18:12:51.397651Z"
    },
    "papermill": {
     "duration": 0.088418,
     "end_time": "2021-03-21T18:12:51.398400",
     "exception": false,
     "start_time": "2021-03-21T18:12:51.309982",
     "status": "completed"
    },
    "tags": []
   },
   "outputs": [],
   "source": [
    "pd.DataFrame({'price': y_submission, 'id': test.id}).to_csv('submission.csv', index=False)"
   ]
  }
 ],
 "metadata": {
  "kernelspec": {
   "display_name": "Python 3",
   "language": "python",
   "name": "python3"
  },
  "language_info": {
   "codemirror_mode": {
    "name": "ipython",
    "version": 3
   },
   "file_extension": ".py",
   "mimetype": "text/x-python",
   "name": "python",
   "nbconvert_exporter": "python",
   "pygments_lexer": "ipython3",
   "version": "3.7.9"
  },
  "papermill": {
   "default_parameters": {},
   "duration": 534.941222,
   "end_time": "2021-03-21T18:12:52.337252",
   "environment_variables": {},
   "exception": null,
   "input_path": "__notebook__.ipynb",
   "output_path": "__notebook__.ipynb",
   "parameters": {},
   "start_time": "2021-03-21T18:03:57.396030",
   "version": "2.2.2"
  }
 },
 "nbformat": 4,
 "nbformat_minor": 4
}
